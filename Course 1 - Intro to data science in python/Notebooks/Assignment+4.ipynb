{
 "cells": [
  {
   "cell_type": "markdown",
   "metadata": {},
   "source": [
    "---\n",
    "\n",
    "_You are currently looking at **version 1.1** of this notebook. To download notebooks and datafiles, as well as get help on Jupyter notebooks in the Coursera platform, visit the [Jupyter Notebook FAQ](https://www.coursera.org/learn/python-data-analysis/resources/0dhYG) course resource._\n",
    "\n",
    "---"
   ]
  },
  {
   "cell_type": "code",
   "execution_count": null,
   "metadata": {},
   "outputs": [],
   "source": [
    "import pandas as pd\n",
    "import numpy as np\n",
    "from scipy.stats import ttest_ind"
   ]
  },
  {
   "cell_type": "markdown",
   "metadata": {},
   "source": [
    "# Assignment 4 - Hypothesis Testing\n",
    "This assignment requires more individual learning than previous assignments - you are encouraged to check out the [pandas documentation](http://pandas.pydata.org/pandas-docs/stable/) to find functions or methods you might not have used yet, or ask questions on [Stack Overflow](http://stackoverflow.com/) and tag them as pandas and python related. And of course, the discussion forums are open for interaction with your peers and the course staff.\n",
    "\n",
    "Definitions:\n",
    "* A _quarter_ is a specific three month period, Q1 is January through March, Q2 is April through June, Q3 is July through September, Q4 is October through December.\n",
    "* A _recession_ is defined as starting with two consecutive quarters of GDP decline, and ending with two consecutive quarters of GDP growth.\n",
    "* A _recession bottom_ is the quarter within a recession which had the lowest GDP.\n",
    "* A _university town_ is a city which has a high percentage of university students compared to the total population of the city.\n",
    "\n",
    "**Hypothesis**: University towns have their mean housing prices less effected by recessions. Run a t-test to compare the ratio of the mean price of houses in university towns the quarter before the recession starts compared to the recession bottom. (`price_ratio=quarter_before_recession/recession_bottom`)\n",
    "\n",
    "The following data files are available for this assignment:\n",
    "* From the [Zillow research data site](http://www.zillow.com/research/data/) there is housing data for the United States. In particular the datafile for [all homes at a city level](http://files.zillowstatic.com/research/public/City/City_Zhvi_AllHomes.csv), ```City_Zhvi_AllHomes.csv```, has median home sale prices at a fine grained level.\n",
    "* From the Wikipedia page on college towns is a list of [university towns in the United States](https://en.wikipedia.org/wiki/List_of_college_towns#College_towns_in_the_United_States) which has been copy and pasted into the file ```university_towns.txt```.\n",
    "* From Bureau of Economic Analysis, US Department of Commerce, the [GDP over time](http://www.bea.gov/national/index.htm#gdp) of the United States in current dollars (use the chained value in 2009 dollars), in quarterly intervals, in the file ```gdplev.xls```. For this assignment, only look at GDP data from the first quarter of 2000 onward.\n",
    "\n",
    "Each function in this assignment below is worth 10%, with the exception of ```run_ttest()```, which is worth 50%."
   ]
  },
  {
   "cell_type": "code",
   "execution_count": null,
   "metadata": {},
   "outputs": [],
   "source": [
    "# Use this dictionary to map state names to two letter acronyms\n",
    "states = {'OH': 'Ohio', 'KY': 'Kentucky', 'AS': 'American Samoa', 'NV': 'Nevada', 'WY': 'Wyoming', 'NA': 'National', 'AL': 'Alabama', 'MD': 'Maryland', 'AK': 'Alaska', 'UT': 'Utah', 'OR': 'Oregon', 'MT': 'Montana', 'IL': 'Illinois', 'TN': 'Tennessee', 'DC': 'District of Columbia', 'VT': 'Vermont', 'ID': 'Idaho', 'AR': 'Arkansas', 'ME': 'Maine', 'WA': 'Washington', 'HI': 'Hawaii', 'WI': 'Wisconsin', 'MI': 'Michigan', 'IN': 'Indiana', 'NJ': 'New Jersey', 'AZ': 'Arizona', 'GU': 'Guam', 'MS': 'Mississippi', 'PR': 'Puerto Rico', 'NC': 'North Carolina', 'TX': 'Texas', 'SD': 'South Dakota', 'MP': 'Northern Mariana Islands', 'IA': 'Iowa', 'MO': 'Missouri', 'CT': 'Connecticut', 'WV': 'West Virginia', 'SC': 'South Carolina', 'LA': 'Louisiana', 'KS': 'Kansas', 'NY': 'New York', 'NE': 'Nebraska', 'OK': 'Oklahoma', 'FL': 'Florida', 'CA': 'California', 'CO': 'Colorado', 'PA': 'Pennsylvania', 'DE': 'Delaware', 'NM': 'New Mexico', 'RI': 'Rhode Island', 'MN': 'Minnesota', 'VI': 'Virgin Islands', 'NH': 'New Hampshire', 'MA': 'Massachusetts', 'GA': 'Georgia', 'ND': 'North Dakota', 'VA': 'Virginia'}\n",
    "# path = \"./../Datasets/\"\n",
    "path=\"\""
   ]
  },
  {
   "cell_type": "code",
   "execution_count": null,
   "metadata": {
    "umich_part_id": "021",
    "umich_partlist_id": "004"
   },
   "outputs": [],
   "source": [
    "def cleanUniversityTownTxt(row):\n",
    "    region_name = \"\"\n",
    "    state_name =  \"\"\n",
    "    if row.str.contains('edit')[0] == True:\n",
    "        state_name = row.str.replace(\"\\[edit\\]\",\"\")[0]\n",
    "#         row = row.str.replace(\"\\[edit\\]\",\"\")[0]\n",
    "    else:\n",
    "        try:\n",
    "            region_name = row.str.replace(r\"\\(.*\",\"\").str.strip()[0]\n",
    "#             row = row.str.replace(r\"\\(.*\",\"\").str.strip()[0]\n",
    "        except:\n",
    "            print(\"ERROR : \"+row)\n",
    "    if region_name != \"\":\n",
    "        row[\"RegionName\"] = region_name\n",
    "    \n",
    "    if state_name != \"\":\n",
    "        row[\"State\"] = state_name\n",
    "    return row\n",
    "\n",
    "def get_list_of_university_towns():\n",
    "    '''Returns a DataFrame of towns and the states they are in from the \n",
    "    university_towns.txt list. The format of the DataFrame should be:\n",
    "    DataFrame( [ [\"Michigan\", \"Ann Arbor\"], [\"Michigan\", \"Yipsilanti\"] ], \n",
    "    columns=[\"State\", \"RegionName\"]  )\n",
    "    \n",
    "    The following cleaning needs to be done:\n",
    "\n",
    "    1. For \"State\", removing characters from \"[\" to the end.\n",
    "    2. For \"RegionName\", when applicable, removing every character from \" (\" to the end.\n",
    "    3. Depending on how you read the data, you may need to remove newline character '\\n'. '''\n",
    "    \n",
    "    uni_towns = pd.read_fwf(path+\"university_towns.txt\",header = None)\n",
    "    \n",
    "    uni_towns = uni_towns.apply(cleanUniversityTownTxt,axis = 1)\n",
    "    \n",
    "    uni_towns.loc[:,\"State\"].fillna(method = 'ffill', inplace = True)\n",
    "    uni_towns = (uni_towns.dropna(subset=[\"RegionName\"])\n",
    "                          .drop([0],axis = 1))\n",
    "    return uni_towns"
   ]
  },
  {
   "cell_type": "code",
   "execution_count": null,
   "metadata": {},
   "outputs": [],
   "source": [
    "\n",
    "GDP_lev = pd.read_excel(path+\"gdplev.xls\", skiprows=2, header=[3],index_col=None)\n",
    "\n",
    "GDP_lev = (GDP_lev\n",
    "#                   \n",
    "                  .drop(['Unnamed: 0', 'GDP in billions of current dollars',\n",
    "                         'GDP in billions of chained 2009 dollars', 'Unnamed: 3','Unnamed: 7'],axis = 1)\n",
    "                  .dropna(how=\"all\")\n",
    "                  .reset_index()\n",
    "                  .drop([\"index\"],axis = 1)\n",
    "                  .rename(columns = {\"Unnamed: 4\" : \"Year-Quarter\",\"GDP in billions of current dollars.1\":\"GDP in billions of current dollars\",\"GDP in billions of chained 2009 dollars.1\":\"GDP in billions of chained 2009 dollars\"})\n",
    "           )\n",
    "\n",
    "# GDP_lev.drop([\"Annual\"],axis = 1,inplace= True)\n",
    "# GDP_lev.reset_index(inplace= True)\n",
    "# GDP_lev.drop([\"index\"],axis = 1,inplace= True)\n",
    "# GDP_lev.drop([\"GDP in billions of chained 2009 dollars.1\"],level=1,axis = 1,inplace= True)\n",
    "# # GDP_lev.rename({\"Unnamed: 3_level_1\" : \"Year-Quarter\"},axis=1,inplace= True)\n",
    "# GDP_lev.dropna(how=\"all\", inplace= True)\n",
    "# GDP_lev.columns =GDP_lev.columns.droplevel()\n",
    "# GDP_lev[\"Year-Quarter\"] = GDP_lev[\"Unnamed: 3_level_1\"]\n",
    "# GDP_lev.drop([\"Unnamed: 3_level_1\"],axis = 1,inplace= True)\n",
    "\n",
    "\n",
    "GDP_lev = GDP_lev[GDP_lev[\"Year-Quarter\"] >= \"2000q1\"]\n",
    "# print(GDP_lev.test)"
   ]
  },
  {
   "cell_type": "code",
   "execution_count": null,
   "metadata": {
    "umich_part_id": "022",
    "umich_partlist_id": "004"
   },
   "outputs": [],
   "source": [
    "def get_recession_start():\n",
    "    '''Returns the year and quarter of the recession start time as a \n",
    "    string value in a format such as 2005q3'''\n",
    "    answer = GDP_lev[(GDP_lev[\"GDP in billions of current dollars\"] > GDP_lev[\"GDP in billions of current dollars\"].shift(1)) \n",
    "        &(GDP_lev[\"GDP in billions of current dollars\"].shift(-1) < GDP_lev[\"GDP in billions of current dollars\"]) \n",
    "        &(GDP_lev[\"GDP in billions of current dollars\"].shift(-2) < GDP_lev[\"GDP in billions of current dollars\"].shift(-1))][\"Year-Quarter\"].iloc[0]\n",
    "    \n",
    "    return answer"
   ]
  },
  {
   "cell_type": "code",
   "execution_count": null,
   "metadata": {},
   "outputs": [],
   "source": [
    "get_recession_start()"
   ]
  },
  {
   "cell_type": "code",
   "execution_count": null,
   "metadata": {},
   "outputs": [],
   "source": [
    "GDP_lev[(GDP_lev[\"Year-Quarter\"]>=\"2008q1\")&(GDP_lev[\"Year-Quarter\"]<=\"2010q1\")]"
   ]
  },
  {
   "cell_type": "code",
   "execution_count": null,
   "metadata": {
    "umich_part_id": "023",
    "umich_partlist_id": "004"
   },
   "outputs": [],
   "source": [
    "def get_recession_end():\n",
    "    '''Returns the year and quarter of the recession end time as a \n",
    "    string value in a format such as 2005q3'''\n",
    "    answer = GDP_lev[(GDP_lev[\"Year-Quarter\"] > get_recession_start()) \n",
    "        &(GDP_lev[\"GDP in billions of current dollars\"] > GDP_lev[\"GDP in billions of current dollars\"].shift(1)) \n",
    "        &(GDP_lev[\"GDP in billions of current dollars\"].shift(2) < GDP_lev[\"GDP in billions of current dollars\"].shift(1))][\"Year-Quarter\"].iloc[0]\n",
    "    return answer"
   ]
  },
  {
   "cell_type": "code",
   "execution_count": null,
   "metadata": {},
   "outputs": [],
   "source": [
    "get_recession_end()"
   ]
  },
  {
   "cell_type": "code",
   "execution_count": null,
   "metadata": {
    "umich_part_id": "024",
    "umich_partlist_id": "004"
   },
   "outputs": [],
   "source": [
    "def get_recession_bottom():\n",
    "    '''Returns the year and quarter of the recession bottom time as a \n",
    "    string value in a format such as 2005q3'''\n",
    "    answer1 =  GDP_lev[(GDP_lev[\"Year-Quarter\"] >= get_recession_start()) &(GDP_lev[\"Year-Quarter\"] <= get_recession_end())][\"GDP in billions of current dollars\"].min()\n",
    "    answer = GDP_lev[GDP_lev[\"GDP in billions of current dollars\"] == answer1][\"Year-Quarter\"].iloc[0]\n",
    "    return answer"
   ]
  },
  {
   "cell_type": "code",
   "execution_count": null,
   "metadata": {},
   "outputs": [],
   "source": [
    "get_recession_bottom()"
   ]
  },
  {
   "cell_type": "code",
   "execution_count": null,
   "metadata": {
    "umich_part_id": "025",
    "umich_partlist_id": "004"
   },
   "outputs": [],
   "source": [
    "def convert_housing_data_to_quarters():\n",
    "    '''Converts the housing data to quarters and returns it as mean \n",
    "    values in a dataframe. This dataframe should be a dataframe with\n",
    "    columns for 2000q1 through 2016q3, and should have a multi-index\n",
    "    in the shape of [\"State\",\"RegionName\"].\n",
    "    \n",
    "    Note: Quarters are defined in the assignment description, they are\n",
    "    not arbitrary three month periods.\n",
    "    \n",
    "    The resulting dataframe should have 67 columns, and 10,730 rows.\n",
    "    '''\n",
    "    housing_data = pd.read_csv(path+\"City_Zhvi_AllHomes.csv\")\n",
    "    \n",
    "    columns_to_drop = []\n",
    "    for col in housing_data.columns:\n",
    "        if \"-\" in col:\n",
    "            year,month = int(col.split(\"-\")[0]),int(col.split(\"-\")[1])\n",
    "            if year < 2000 :\n",
    "                columns_to_drop.append(col)    \n",
    "    housing_data.drop(columns_to_drop,axis=1,inplace=True)\n",
    "    \n",
    "    housing_data[\"State\"].replace(states,inplace=True)\n",
    "    housing_data.set_index([\"State\",\"RegionName\"],inplace=True)\n",
    "    \n",
    "    housing_data = housing_data.iloc[:,4:]\n",
    "    \n",
    "    quaters_cal = []\n",
    "    data_size = len(housing_data.columns)\n",
    "    for col in housing_data.columns:\n",
    "            year,month = col.split(\"-\")[0],col.split(\"-\")[1]\n",
    "            if int(month) in [1,4,7,10]:\n",
    "               \n",
    "                if housing_data.columns.get_loc(col) < data_size:\n",
    "                    quaters_cal.append(housing_data.columns.get_loc(col))\n",
    "                if housing_data.columns.get_loc(col)+1 < data_size:\n",
    "                    quaters_cal.append(housing_data.columns.get_loc(col)+1)\n",
    "                if housing_data.columns.get_loc(col)+2 < data_size:\n",
    "                    quaters_cal.append(housing_data.columns.get_loc(col)+2)    \n",
    "                meanSeries = housing_data.iloc[:,[housing_data.columns.get_loc(col),housing_data.columns.get_loc(col)+1,housing_data.columns.get_loc(col)+2]].mean(axis=1)\n",
    "\n",
    "                if int(month)== 1:\n",
    "        #             if year == \"2000\":\n",
    "                    housing_data[year+\"q1\"] =meanSeries\n",
    "                if int(month)== 4:\n",
    "                    housing_data[year+\"q2\"] =meanSeries\n",
    "                if int(month)== 7:\n",
    "                    housing_data[year+\"q3\"] =meanSeries\n",
    "                if int(month)== 10:\n",
    "                    housing_data[year+\"q4\"] =meanSeries    \n",
    "\n",
    "    housing_data.drop(housing_data.columns[quaters_cal],axis=1,inplace= True)\n",
    "    return housing_data"
   ]
  },
  {
   "cell_type": "code",
   "execution_count": null,
   "metadata": {},
   "outputs": [],
   "source": [
    "data = convert_housing_data_to_quarters()\n",
    "data\n"
   ]
  },
  {
   "cell_type": "code",
   "execution_count": null,
   "metadata": {
    "umich_part_id": "026",
    "umich_partlist_id": "004"
   },
   "outputs": [],
   "source": [
    "def run_ttest():\n",
    "    '''First creates new data showing the decline or growth of housing prices\n",
    "    between the recession start and the recession bottom. Then runs a ttest\n",
    "    comparing the university town values to the non-university towns values, \n",
    "    return whether the alternative hypothesis (that the two groups are the same)\n",
    "    is true or not as well as the p-value of the confidence. \n",
    "    \n",
    "    Return the tuple (different, p, better) where different=True if the t-test is\n",
    "    True at a p<0.01 (we reject the null hypothesis), or different=False if \n",
    "    otherwise (we cannot reject the null hypothesis). The variable p should\n",
    "    be equal to the exact p value returned from scipy.stats.ttest_ind(). The\n",
    "    value for better should be either \"university town\" or \"non-university town\"\n",
    "    depending on which has a lower mean price ratio (which is equivilent to a\n",
    "    reduced market loss).'''\n",
    "    \n",
    "    res_start = get_recession_start()\n",
    "    res_bottom = get_recession_bottom()\n",
    "    res_end = get_recession_end()\n",
    "    \n",
    "    print(\"Recession start = {} \\n Recession Bottom = {} \\n Recession end = {}\".format(res_start,res_bottom,res_end))\n",
    "    \n",
    "    uni_towns = get_list_of_university_towns()\n",
    "    \n",
    "    GDP_data = GDP_lev\n",
    "    \n",
    "    house_quaters = convert_housing_data_to_quarters()\n",
    "    \n",
    "    list_state_town = list(zip(uni_towns[\"State\"],uni_towns[\"RegionName\"]))\n",
    "    uni_town_data = house_quaters.loc[house_quaters.index.isin(list_state_town),[res_start,res_bottom]]\n",
    "    non_uni_town_data = house_quaters.loc[~house_quaters.index.isin(list_state_town),[res_start,res_bottom]]\n",
    "    \n",
    "    uni_town_data[\"priceRatio\"] = uni_town_data.iloc[:,0]/uni_town_data.iloc[:,1]\n",
    "    non_uni_town_data[\"priceRatio\"] = non_uni_town_data.iloc[:,0]/non_uni_town_data.iloc[:,1]\n",
    "    statistic,pvalue = ttest_ind(uni_town_data[\"priceRatio\"],non_uni_town_data[\"priceRatio\"], nan_policy='omit')\n",
    "    \n",
    "    different = False\n",
    "    if pvalue < 0.01:\n",
    "        different = True\n",
    "    else:\n",
    "        different = False\n",
    "    \n",
    "    better=\"\"\n",
    "    if uni_town_data[\"priceRatio\"].mean() < non_uni_town_data[\"priceRatio\"].mean():\n",
    "        better = \"university town\"\n",
    "    else:\n",
    "        better = \"non-university town\"\n",
    "    \n",
    "    return (different, pvalue, better)"
   ]
  },
  {
   "cell_type": "code",
   "execution_count": null,
   "metadata": {},
   "outputs": [],
   "source": [
    "answer = run_ttest()\n",
    "answer"
   ]
  }
 ],
 "metadata": {
  "coursera": {
   "course_slug": "python-data-analysis",
   "graded_item_id": "Il9Fx",
   "launcher_item_id": "TeDW0",
   "part_id": "WGlun"
  },
  "kernelspec": {
   "display_name": "Python 3",
   "language": "python",
   "name": "python3"
  },
  "language_info": {
   "codemirror_mode": {
    "name": "ipython",
    "version": 3
   },
   "file_extension": ".py",
   "mimetype": "text/x-python",
   "name": "python",
   "nbconvert_exporter": "python",
   "pygments_lexer": "ipython3",
   "version": "3.6.5"
  },
  "umich": {
   "id": "Assignment 4",
   "version": "1.1"
  }
 },
 "nbformat": 4,
 "nbformat_minor": 1
}
