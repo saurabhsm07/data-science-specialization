{
 "cells": [
  {
   "cell_type": "markdown",
   "metadata": {},
   "source": [
    "---\n",
    "\n",
    "_You are currently looking at **version 1.2** of this notebook. To download notebooks and datafiles, as well as get help on Jupyter notebooks in the Coursera platform, visit the [Jupyter Notebook FAQ](https://www.coursera.org/learn/python-social-network-analysis/resources/yPcBs) course resource._\n",
    "\n",
    "---"
   ]
  },
  {
   "cell_type": "markdown",
   "metadata": {},
   "source": [
    "# Assignment 4"
   ]
  },
  {
   "cell_type": "code",
   "execution_count": 1,
   "metadata": {
    "collapsed": true
   },
   "outputs": [],
   "source": [
    "import networkx as nx\n",
    "import pandas as pd\n",
    "import numpy as np\n",
    "import pickle"
   ]
  },
  {
   "cell_type": "markdown",
   "metadata": {},
   "source": [
    "---\n",
    "\n",
    "## Part 1 - Random Graph Identification\n",
    "\n",
    "For the first part of this assignment you will analyze randomly generated graphs and determine which algorithm created them."
   ]
  },
  {
   "cell_type": "code",
   "execution_count": 2,
   "metadata": {},
   "outputs": [
    {
     "data": {
      "text/plain": [
       "[<networkx.classes.graph.Graph at 0x7f4e7c04b3c8>,\n",
       " <networkx.classes.graph.Graph at 0x7f4e7c04b4e0>,\n",
       " <networkx.classes.graph.Graph at 0x7f4e7c04b518>,\n",
       " <networkx.classes.graph.Graph at 0x7f4e7c04b550>,\n",
       " <networkx.classes.graph.Graph at 0x7f4e7c04b588>]"
      ]
     },
     "execution_count": 2,
     "metadata": {},
     "output_type": "execute_result"
    }
   ],
   "source": [
    "P1_Graphs = pickle.load(open('A4_graphs','rb'))\n",
    "P1_Graphs"
   ]
  },
  {
   "cell_type": "code",
   "execution_count": 3,
   "metadata": {
    "collapsed": true
   },
   "outputs": [],
   "source": [
    "count = 1\n",
    "graph_dicts = {}\n",
    "for graph in P1_Graphs:\n",
    "    degree_unique_vals = sorted(set(graph.degree().values()), reverse=True)\n",
    "    graph_dicts['graph-'+str(count)+'-degree-distribution'] = [(i, list(graph.degree().values()).count(i)/float(graph.number_of_nodes())) for i in degree_unique_vals]\n",
    "    graph_dicts['graph-'+str(count)+'-clustering'] = nx.average_clustering(graph)\n",
    "    graph_dicts['graph-'+str(count)+'-node_count'] = graph.number_of_nodes()\n",
    "    graph_dicts['graph-'+str(count)+'-shortest-path'] = nx.average_shortest_path_length(graph)\n",
    "    count=count+1"
   ]
  },
  {
   "cell_type": "code",
   "execution_count": 38,
   "metadata": {},
   "outputs": [
    {
     "data": {
      "text/plain": [
       "[(100, 0.001),\n",
       " (49, 0.001),\n",
       " (39, 0.002),\n",
       " (38, 0.001),\n",
       " (30, 0.002),\n",
       " (29, 0.001),\n",
       " (27, 0.002),\n",
       " (26, 0.002),\n",
       " (22, 0.002),\n",
       " (21, 0.001),\n",
       " (20, 0.002),\n",
       " (19, 0.003),\n",
       " (18, 0.002),\n",
       " (17, 0.002),\n",
       " (16, 0.001),\n",
       " (15, 0.001),\n",
       " (14, 0.002),\n",
       " (13, 0.005),\n",
       " (12, 0.005),\n",
       " (11, 0.007),\n",
       " (10, 0.009),\n",
       " (9, 0.014),\n",
       " (8, 0.016),\n",
       " (7, 0.026),\n",
       " (6, 0.032),\n",
       " (5, 0.056),\n",
       " (4, 0.1),\n",
       " (3, 0.237),\n",
       " (2, 0.465)]"
      ]
     },
     "execution_count": 38,
     "metadata": {},
     "output_type": "execute_result"
    }
   ],
   "source": [
    "# degree distribution analysis\n",
    "graph_dicts['graph-1-degree-distribution']"
   ]
  },
  {
   "cell_type": "code",
   "execution_count": 5,
   "metadata": {},
   "outputs": [
    {
     "name": "stdout",
     "output_type": "stream",
     "text": [
      "0.03167539146454044\n",
      "0.5642419635919628\n",
      "0.4018222222222227\n",
      "0.03780379975223251\n",
      "0.0033037037037037037\n"
     ]
    }
   ],
   "source": [
    "# # clustering distribution analysis\n",
    "for i in range(1,6):\n",
    "    print(graph_dicts['graph-{}-clustering'.format(i)])"
   ]
  },
  {
   "cell_type": "code",
   "execution_count": 6,
   "metadata": {},
   "outputs": [
    {
     "name": "stdout",
     "output_type": "stream",
     "text": [
      "4.099161161161161\n",
      "5.089871871871872\n",
      "9.378702269692925\n",
      "3.1048046283934134\n",
      "5.0785509568313305\n"
     ]
    }
   ],
   "source": [
    "# # shortest path distribution analysis\n",
    "for i in range(1,6):\n",
    "    print(graph_dicts['graph-{}-shortest-path'.format(i)])"
   ]
  },
  {
   "cell_type": "code",
   "execution_count": 7,
   "metadata": {},
   "outputs": [
    {
     "name": "stdout",
     "output_type": "stream",
     "text": [
      "1000\n",
      "1000\n",
      "750\n",
      "750\n",
      "750\n"
     ]
    }
   ],
   "source": [
    "# # node count in each graph\n",
    "for i in range(1,6):\n",
    "    print(graph_dicts['graph-{}-node_count'.format(i)])"
   ]
  },
  {
   "cell_type": "markdown",
   "metadata": {},
   "source": [
    "<br>\n",
    "`P1_Graphs` is a list containing 5 networkx graphs. Each of these graphs were generated by one of three possible algorithms:\n",
    "* Preferential Attachment (`'PA'`)\n",
    "* Small World with low probability of rewiring (`'SW_L'`)\n",
    "* Small World with high probability of rewiring (`'SW_H'`)\n",
    "\n",
    "Anaylze each of the 5 graphs and determine which of the three algorithms generated the graph.\n",
    "\n",
    "*The `graph_identification` function should return a list of length 5 where each element in the list is either `'PA'`, `'SW_L'`, or `'SW_H'`.*"
   ]
  },
  {
   "cell_type": "code",
   "execution_count": 8,
   "metadata": {
    "collapsed": true
   },
   "outputs": [],
   "source": [
    "def graph_identification():\n",
    "    \n",
    "    # Your Code Here\n",
    "    \n",
    "    return ['PA','SW_H','SW_L','PA','SW_H']"
   ]
  },
  {
   "cell_type": "code",
   "execution_count": 9,
   "metadata": {},
   "outputs": [
    {
     "data": {
      "text/plain": [
       "['PA', 'SW_H', 'SW_L', 'PA', 'SW_H']"
      ]
     },
     "execution_count": 9,
     "metadata": {},
     "output_type": "execute_result"
    }
   ],
   "source": [
    "graph_identification()"
   ]
  },
  {
   "cell_type": "markdown",
   "metadata": {},
   "source": [
    "---\n",
    "\n",
    "## Part 2 - Company Emails\n",
    "\n",
    "For the second part of this assignment you will be workking with a company's email network where each node corresponds to a person at the company, and each edge indicates that at least one email has been sent between two people.\n",
    "\n",
    "The network also contains the node attributes `Department` and `ManagementSalary`.\n",
    "\n",
    "`Department` indicates the department in the company which the person belongs to, and `ManagementSalary` indicates whether that person is receiving a management position salary."
   ]
  },
  {
   "cell_type": "code",
   "execution_count": 10,
   "metadata": {},
   "outputs": [
    {
     "name": "stdout",
     "output_type": "stream",
     "text": [
      "Name: \n",
      "Type: Graph\n",
      "Number of nodes: 1005\n",
      "Number of edges: 16706\n",
      "Average degree:  33.2458\n"
     ]
    }
   ],
   "source": [
    "G = nx.read_gpickle('email_prediction.txt')\n",
    "\n",
    "print(nx.info(G))"
   ]
  },
  {
   "cell_type": "markdown",
   "metadata": {},
   "source": [
    "### Part 2A - Salary Prediction\n",
    "\n",
    "Using network `G`, identify the people in the network with missing values for the node attribute `ManagementSalary` and predict whether or not these individuals are receiving a management position salary.\n",
    "\n",
    "To accomplish this, you will need to create a matrix of node features using networkx, train a sklearn classifier on nodes that have `ManagementSalary` data, and predict a probability of the node receiving a management salary for nodes where `ManagementSalary` is missing.\n",
    "\n",
    "\n",
    "\n",
    "Your predictions will need to be given as the probability that the corresponding employee is receiving a management position salary.\n",
    "\n",
    "The evaluation metric for this assignment is the Area Under the ROC Curve (AUC).\n",
    "\n",
    "Your grade will be based on the AUC score computed for your classifier. A model which with an AUC of 0.88 or higher will receive full points, and with an AUC of 0.82 or higher will pass (get 80% of the full points).\n",
    "\n",
    "Using your trained classifier, return a series of length 252 with the data being the probability of receiving management salary, and the index being the node id.\n",
    "\n",
    "    Example:\n",
    "    \n",
    "        1       1.0\n",
    "        2       0.0\n",
    "        5       0.8\n",
    "        8       1.0\n",
    "            ...\n",
    "        996     0.7\n",
    "        1000    0.5\n",
    "        1001    0.0\n",
    "        Length: 252, dtype: float64"
   ]
  },
  {
   "cell_type": "code",
   "execution_count": 11,
   "metadata": {
    "collapsed": true
   },
   "outputs": [],
   "source": [
    "# nodes = G.nodes(data=True)\n",
    "# df = pd.DataFrame(index = G.nodes())\n",
    "# df['department'] = pd.Series(nx.get_node_attributes(G, 'Department'))\n",
    "# df['management-salary'] = pd.Series(nx.get_node_attributes(G, 'ManagementSalary'))\n",
    "# df['degrees'] = pd.Series(nx.degree(G))\n",
    "# df['clustering'] = pd.Series(nx.clustering(G))\n",
    "# # node_attributes_from_graph = [(node[0], node[1]['Department'], node[1]['ManagementSalary']) for node in nodes]"
   ]
  },
  {
   "cell_type": "code",
   "execution_count": 12,
   "metadata": {
    "collapsed": true
   },
   "outputs": [],
   "source": [
    "def mgmt_emails(row, salary_type_dict):\n",
    "    edges = G.edges(row['nodes'])\n",
    "    mgmt_emails = 0\n",
    "    for edge in edges:\n",
    "        if salary_type_dict[edge[1]] == 1:\n",
    "            mgmt_emails=mgmt_emails+1\n",
    "    row['mgmt_communication'] = mgmt_emails\n",
    "    return row\n",
    "\n"
   ]
  },
  {
   "cell_type": "code",
   "execution_count": 13,
   "metadata": {
    "collapsed": true
   },
   "outputs": [],
   "source": [
    "def non_mgmt_emails(row, salary_type_dict):\n",
    "    edges = G.edges(row['nodes'])\n",
    "    non_mgmt_emails = 0\n",
    "    for edge in edges:\n",
    "        if salary_type_dict[edge[1]] == 0:\n",
    "            non_mgmt_emails=non_mgmt_emails+1\n",
    "    row['non_mgmt_communication'] = non_mgmt_emails\n",
    "    return row"
   ]
  },
  {
   "cell_type": "code",
   "execution_count": 14,
   "metadata": {
    "collapsed": true
   },
   "outputs": [],
   "source": [
    "def unknown_emails(row, salary_type_dict):\n",
    "    edges = G.edges(row['nodes'])\n",
    "    unknown_emails = 0\n",
    "    for edge in edges:\n",
    "        if np.isnan(salary_type_dict[edge[1]]):\n",
    "            unknown_emails=unknown_emails+1\n",
    "    row['unknown_communication'] = unknown_emails\n",
    "    return row"
   ]
  },
  {
   "cell_type": "code",
   "execution_count": 15,
   "metadata": {
    "collapsed": true
   },
   "outputs": [],
   "source": [
    "# df = (df.reset_index()\n",
    "#         .rename(columns={'index': 'nodes'})\n",
    "#         .apply(mgmt_emails,args=(nx.get_node_attributes(G,'ManagementSalary'),), axis=1)\n",
    "#         .apply(non_mgmt_emails,args=(nx.get_node_attributes(G,'ManagementSalary'),), axis=1)\n",
    "# #         .apply(unknown_emails,args=(nx.get_node_attributes(G,'ManagementSalary'),), axis=1)\n",
    "#      )"
   ]
  },
  {
   "cell_type": "code",
   "execution_count": 16,
   "metadata": {
    "collapsed": true
   },
   "outputs": [],
   "source": [
    "# df_training = df[df['management-salary'].isnull() == False]\n",
    "# df_training.info()"
   ]
  },
  {
   "cell_type": "code",
   "execution_count": 17,
   "metadata": {
    "collapsed": true
   },
   "outputs": [],
   "source": [
    "# df_prediction = df[df['management-salary'].isnull()]\n",
    "# df_prediction.info()"
   ]
  },
  {
   "cell_type": "code",
   "execution_count": 18,
   "metadata": {
    "collapsed": true
   },
   "outputs": [],
   "source": [
    "# logistic_model.score(X_test,y_test)"
   ]
  },
  {
   "cell_type": "code",
   "execution_count": 19,
   "metadata": {
    "collapsed": true
   },
   "outputs": [],
   "source": [
    "# from sklearn.model_selection import train_test_split\n",
    "\n",
    "# X_train, X_test, y_train, y_test = train_test_split(df_training.loc[:, df_training.columns !='management-salary'],df_training.loc[:, 'management-salary'], \n",
    "#                                                     train_size= 0.8, random_state = 0)"
   ]
  },
  {
   "cell_type": "code",
   "execution_count": 20,
   "metadata": {
    "collapsed": true
   },
   "outputs": [],
   "source": [
    "# from sklearn.linear_model import LogisticRegression\n",
    "# logistic_model = LogisticRegression(C=1000)\n",
    "# logistic_model.fit(X_train,y_train)\n",
    "# logistic_model.score(X_train,y_train)\n",
    "\n",
    "# prediction = logistic_model.predict(df_prediction.loc[:, df_training.columns !='management-salary'])\n",
    "# prediction_probas = logistic_model.predict_proba(df_prediction.loc[:, df_training.columns !='management-salary'])\n",
    "# proba_mgmt_salary = [ proba[1] for proba in prediction_probas]\n",
    "# mgmt_salary_proba_series = pd.Series(proba_mgmt_salary, index = df_prediction.index)"
   ]
  },
  {
   "cell_type": "code",
   "execution_count": 21,
   "metadata": {
    "collapsed": true
   },
   "outputs": [],
   "source": [
    "def salary_predictions():\n",
    "    nodes = G.nodes(data=True)\n",
    "    df = pd.DataFrame(index = G.nodes())\n",
    "    df['department'] = pd.Series(nx.get_node_attributes(G, 'Department'))\n",
    "    df['management-salary'] = pd.Series(nx.get_node_attributes(G, 'ManagementSalary'))\n",
    "    df['degrees'] = pd.Series(nx.degree(G))\n",
    "    df['clustering'] = pd.Series(nx.clustering(G))\n",
    "    # node_attributes_from_graph = [(node[0], node[1]['Department'], node[1]['ManagementSalary']) for node in nodes]\n",
    "\n",
    "    df = (df.reset_index()\n",
    "            .rename(columns={'index': 'nodes'})\n",
    "            .apply(mgmt_emails,args=(nx.get_node_attributes(G,'ManagementSalary'),), axis=1)\n",
    "            .apply(non_mgmt_emails,args=(nx.get_node_attributes(G,'ManagementSalary'),), axis=1)\n",
    "    #         .apply(unknown_emails,args=(nx.get_node_attributes(G,'ManagementSalary'),), axis=1)\n",
    "         )\n",
    "    \n",
    "    df_training = df[df['management-salary'].isnull() == False]\n",
    "    df_prediction = df[df['management-salary'].isnull()]\n",
    "    \n",
    "    from sklearn.model_selection import train_test_split\n",
    "\n",
    "    X_train, X_test, y_train, y_test = train_test_split(df_training.loc[:, df_training.columns !='management-salary'],df_training.loc[:, 'management-salary'], \n",
    "                                                    train_size= 0.8, random_state = 0)\n",
    "    \n",
    "    from sklearn.linear_model import LogisticRegression\n",
    "    logistic_model = LogisticRegression(C=1000)\n",
    "    logistic_model.fit(X_train,y_train)\n",
    "    logistic_model.score(X_train,y_train)\n",
    "    \n",
    "    prediction = logistic_model.predict(df_prediction.loc[:, df_training.columns !='management-salary'])\n",
    "    \n",
    "    prediction_probas = logistic_model.predict_proba(df_prediction.loc[:, df_training.columns !='management-salary'])\n",
    "    proba_mgmt_salary = [ proba[1] for proba in prediction_probas]\n",
    "    mgmt_salary_proba_series = pd.Series(proba_mgmt_salary, index = df_prediction.index)\n",
    "    # Your Code Here\n",
    "    \n",
    "    return mgmt_salary_proba_series"
   ]
  },
  {
   "cell_type": "code",
   "execution_count": 22,
   "metadata": {},
   "outputs": [
    {
     "data": {
      "text/plain": [
       "1       0.075913\n",
       "2       0.734868\n",
       "5       0.957095\n",
       "8       0.073657\n",
       "14      0.149857\n",
       "18      0.115260\n",
       "27      0.257596\n",
       "30      0.415210\n",
       "31      0.220136\n",
       "34      0.153350\n",
       "37      0.078485\n",
       "40      0.177223\n",
       "45      0.110995\n",
       "54      0.370649\n",
       "55      0.326768\n",
       "60      0.169890\n",
       "62      0.997971\n",
       "65      0.208667\n",
       "77      0.061647\n",
       "79      0.108062\n",
       "97      0.057857\n",
       "101     0.030756\n",
       "103     0.170964\n",
       "108     0.054757\n",
       "113     0.569090\n",
       "122     0.034083\n",
       "141     0.235956\n",
       "142     0.932950\n",
       "144     0.094260\n",
       "145     0.580716\n",
       "          ...   \n",
       "913     0.026959\n",
       "914     0.081433\n",
       "915     0.002755\n",
       "918     0.123238\n",
       "923     0.044536\n",
       "926     0.086469\n",
       "931     0.050468\n",
       "934     0.015617\n",
       "939     0.010486\n",
       "944     0.003463\n",
       "945     0.048302\n",
       "947     0.187823\n",
       "950     0.063947\n",
       "951     0.044451\n",
       "953     0.018898\n",
       "959     0.002736\n",
       "962     0.002684\n",
       "963     0.140773\n",
       "968     0.155656\n",
       "969     0.140170\n",
       "974     0.080190\n",
       "984     0.016932\n",
       "987     0.101720\n",
       "989     0.146349\n",
       "991     0.192289\n",
       "992     0.003161\n",
       "994     0.003438\n",
       "996     0.003124\n",
       "1000    0.039469\n",
       "1001    0.129357\n",
       "Length: 252, dtype: float64"
      ]
     },
     "execution_count": 22,
     "metadata": {},
     "output_type": "execute_result"
    }
   ],
   "source": [
    "salary_predictions()"
   ]
  },
  {
   "cell_type": "markdown",
   "metadata": {},
   "source": [
    "### Part 2B - New Connections Prediction\n",
    "\n",
    "For the last part of this assignment, you will predict future connections between employees of the network. The future connections information has been loaded into the variable `future_connections`. The index is a tuple indicating a pair of nodes that currently do not have a connection, and the `Future Connection` column indicates if an edge between those two nodes will exist in the future, where a value of 1.0 indicates a future connection."
   ]
  },
  {
   "cell_type": "code",
   "execution_count": 23,
   "metadata": {},
   "outputs": [
    {
     "data": {
      "text/html": [
       "<div>\n",
       "<style>\n",
       "    .dataframe thead tr:only-child th {\n",
       "        text-align: right;\n",
       "    }\n",
       "\n",
       "    .dataframe thead th {\n",
       "        text-align: left;\n",
       "    }\n",
       "\n",
       "    .dataframe tbody tr th {\n",
       "        vertical-align: top;\n",
       "    }\n",
       "</style>\n",
       "<table border=\"1\" class=\"dataframe\">\n",
       "  <thead>\n",
       "    <tr style=\"text-align: right;\">\n",
       "      <th></th>\n",
       "      <th>Future Connection</th>\n",
       "    </tr>\n",
       "  </thead>\n",
       "  <tbody>\n",
       "    <tr>\n",
       "      <th>(6, 840)</th>\n",
       "      <td>0.0</td>\n",
       "    </tr>\n",
       "    <tr>\n",
       "      <th>(4, 197)</th>\n",
       "      <td>0.0</td>\n",
       "    </tr>\n",
       "    <tr>\n",
       "      <th>(620, 979)</th>\n",
       "      <td>0.0</td>\n",
       "    </tr>\n",
       "    <tr>\n",
       "      <th>(519, 872)</th>\n",
       "      <td>0.0</td>\n",
       "    </tr>\n",
       "    <tr>\n",
       "      <th>(382, 423)</th>\n",
       "      <td>0.0</td>\n",
       "    </tr>\n",
       "    <tr>\n",
       "      <th>(97, 226)</th>\n",
       "      <td>1.0</td>\n",
       "    </tr>\n",
       "    <tr>\n",
       "      <th>(349, 905)</th>\n",
       "      <td>0.0</td>\n",
       "    </tr>\n",
       "    <tr>\n",
       "      <th>(429, 860)</th>\n",
       "      <td>0.0</td>\n",
       "    </tr>\n",
       "    <tr>\n",
       "      <th>(309, 989)</th>\n",
       "      <td>0.0</td>\n",
       "    </tr>\n",
       "    <tr>\n",
       "      <th>(468, 880)</th>\n",
       "      <td>0.0</td>\n",
       "    </tr>\n",
       "  </tbody>\n",
       "</table>\n",
       "</div>"
      ],
      "text/plain": [
       "            Future Connection\n",
       "(6, 840)                  0.0\n",
       "(4, 197)                  0.0\n",
       "(620, 979)                0.0\n",
       "(519, 872)                0.0\n",
       "(382, 423)                0.0\n",
       "(97, 226)                 1.0\n",
       "(349, 905)                0.0\n",
       "(429, 860)                0.0\n",
       "(309, 989)                0.0\n",
       "(468, 880)                0.0"
      ]
     },
     "execution_count": 23,
     "metadata": {},
     "output_type": "execute_result"
    }
   ],
   "source": [
    "future_connections = pd.read_csv('Future_Connections.csv', index_col=0, converters={0: eval})\n",
    "future_connections.head(10)"
   ]
  },
  {
   "cell_type": "markdown",
   "metadata": {},
   "source": [
    "Using network `G` and `future_connections`, identify the edges in `future_connections` with missing values and predict whether or not these edges will have a future connection.\n",
    "\n",
    "To accomplish this, you will need to create a matrix of features for the edges found in `future_connections` using networkx, train a sklearn classifier on those edges in `future_connections` that have `Future Connection` data, and predict a probability of the edge being a future connection for those edges in `future_connections` where `Future Connection` is missing.\n",
    "\n",
    "\n",
    "\n",
    "Your predictions will need to be given as the probability of the corresponding edge being a future connection.\n",
    "\n",
    "The evaluation metric for this assignment is the Area Under the ROC Curve (AUC).\n",
    "\n",
    "Your grade will be based on the AUC score computed for your classifier. A model which with an AUC of 0.88 or higher will receive full points, and with an AUC of 0.82 or higher will pass (get 80% of the full points).\n",
    "\n",
    "Using your trained classifier, return a series of length 122112 with the data being the probability of the edge being a future connection, and the index being the edge as represented by a tuple of nodes.\n",
    "\n",
    "    Example:\n",
    "    \n",
    "        (107, 348)    0.35\n",
    "        (542, 751)    0.40\n",
    "        (20, 426)     0.55\n",
    "        (50, 989)     0.35\n",
    "                  ...\n",
    "        (939, 940)    0.15\n",
    "        (555, 905)    0.35\n",
    "        (75, 101)     0.65\n",
    "        Length: 122112, dtype: float64"
   ]
  },
  {
   "cell_type": "code",
   "execution_count": 24,
   "metadata": {},
   "outputs": [
    {
     "name": "stdout",
     "output_type": "stream",
     "text": [
      "<class 'pandas.core.frame.DataFrame'>\n",
      "Index: 488446 entries, (6, 840) to (75, 101)\n",
      "Data columns (total 1 columns):\n",
      "Future Connection    366334 non-null float64\n",
      "dtypes: float64(1)\n",
      "memory usage: 7.5+ MB\n"
     ]
    }
   ],
   "source": [
    "future_connections.info()"
   ]
  },
  {
   "cell_type": "code",
   "execution_count": 25,
   "metadata": {
    "collapsed": true
   },
   "outputs": [],
   "source": [
    "# comm_net_score = list(nx.cn_soundarajan_hopcroft(G, community='ManagementSalary'))"
   ]
  },
  {
   "cell_type": "code",
   "execution_count": 26,
   "metadata": {
    "collapsed": true
   },
   "outputs": [],
   "source": [
    "# cn_dict = {}\n",
    "# for cn_score in comm_net_score:\n",
    "#     cn_dict[(cn_score[0], cn_score[1])] = cn_score[2]"
   ]
  },
  {
   "cell_type": "code",
   "execution_count": 27,
   "metadata": {
    "collapsed": true
   },
   "outputs": [],
   "source": [
    "# jaccard_coeff = list(nx.jaccard_coefficient(G))"
   ]
  },
  {
   "cell_type": "code",
   "execution_count": 28,
   "metadata": {
    "collapsed": true
   },
   "outputs": [],
   "source": [
    "# jacc_dict = {}\n",
    "# for jacc_score in jaccard_coeff:\n",
    "#     jacc_dict[(jacc_score[0], jacc_score[1])] = jacc_score[2]"
   ]
  },
  {
   "cell_type": "code",
   "execution_count": 29,
   "metadata": {
    "collapsed": true
   },
   "outputs": [],
   "source": [
    "# future_connections = (future_connections.reset_index()\n",
    "#                                         .rename(columns={'index' : 'edge'})\n",
    "#                      )"
   ]
  },
  {
   "cell_type": "code",
   "execution_count": 30,
   "metadata": {},
   "outputs": [],
   "source": [
    "# future_connections.head()"
   ]
  },
  {
   "cell_type": "code",
   "execution_count": 31,
   "metadata": {
    "collapsed": true
   },
   "outputs": [],
   "source": [
    "# future_connections['cn-score'] = future_connections['edge'].apply(lambda x : cn_dict[x])"
   ]
  },
  {
   "cell_type": "code",
   "execution_count": 32,
   "metadata": {
    "collapsed": true
   },
   "outputs": [],
   "source": [
    "# future_connections.set_index('edge', drop=True, inplace=True)"
   ]
  },
  {
   "cell_type": "code",
   "execution_count": 33,
   "metadata": {},
   "outputs": [],
   "source": [
    "# future_connections.head()"
   ]
  },
  {
   "cell_type": "code",
   "execution_count": 34,
   "metadata": {
    "collapsed": true
   },
   "outputs": [],
   "source": [
    "# from sklearn.model_selection import train_test_split\n",
    "\n",
    "# future_connections_train = future_connections[future_connections['Future Connection'].isnull() == False]\n",
    "# future_connections_predict = future_connections[future_connections['Future Connection'].isnull()]"
   ]
  },
  {
   "cell_type": "code",
   "execution_count": 35,
   "metadata": {},
   "outputs": [],
   "source": [
    "\n",
    "\n",
    "# X_train, X_test, y_train, y_test = train_test_split(future_connections_train['cn-score'], future_connections_train['Future Connection'], \n",
    "#                                                 train_size= 0.8)\n",
    "\n",
    "# from sklearn.linear_model import LogisticRegression\n",
    "# logistic_model = LogisticRegression(C=100)\n",
    "# logistic_model.fit(X_train.reshape(X_train.shape[0],1), y_train.reshape(y_train.shape[0],1))\n",
    "# logistic_model.score(X_test.reshape(X_test.shape[0],1), y_test.reshape(y_test.shape[0],1))\n",
    "\n",
    "# # prediction = logistic_model.predict(future_connections_predict.loc[:, df_training.columns !='management-salary'])\n",
    "\n",
    "# prediction_probas = logistic_model.predict_proba(future_connections_predict['cn-score'].reshape(future_connections_predict['cn-score'].shape[0],1))\n",
    "# proba_future_connect = [ proba[1] for proba in prediction_probas]\n",
    "# future_connect_series = pd.Series(proba_mgmt_salary, index = future_connections_predict.index)"
   ]
  },
  {
   "cell_type": "code",
   "execution_count": 36,
   "metadata": {
    "collapsed": true
   },
   "outputs": [],
   "source": [
    "def new_connections_predictions():\n",
    "    comm_net_score = list(nx.cn_soundarajan_hopcroft(G, community='ManagementSalary'))\n",
    "\n",
    "    cn_dict = {}\n",
    "    for cn_score in comm_net_score:\n",
    "        cn_dict[(cn_score[0], cn_score[1])] = cn_score[2]\n",
    "\n",
    "    future_connection = (future_connections.reset_index()\n",
    "                                            .rename(columns={'index' : 'edge'})\n",
    "                         )\n",
    "\n",
    "    future_connection['cn-score'] = future_connection['edge'].apply(lambda x : cn_dict[x])\n",
    "\n",
    "    future_connection.set_index('edge', drop=True, inplace=True)\n",
    "\n",
    "    from sklearn.model_selection import train_test_split\n",
    "\n",
    "    future_connections_train = future_connection[future_connection['Future Connection'].isnull() == False]\n",
    "    future_connections_predict = future_connection[future_connection['Future Connection'].isnull()]\n",
    "\n",
    "    X_train, X_test, y_train, y_test = train_test_split(future_connections_train['cn-score'], future_connections_train['Future Connection'], \n",
    "                                                    train_size= 0.8)\n",
    "\n",
    "    from sklearn.linear_model import LogisticRegression\n",
    "    logistic_model = LogisticRegression(C=100)\n",
    "    logistic_model.fit(X_train.reshape(X_train.shape[0],1), y_train.reshape(y_train.shape[0],1))\n",
    "    logistic_model.score(X_test.reshape(X_test.shape[0],1), y_test.reshape(y_test.shape[0],1))\n",
    "\n",
    "    # prediction = logistic_model.predict(future_connections_predict.loc[:, df_training.columns !='management-salary'])\n",
    "\n",
    "    prediction_probas = logistic_model.predict_proba(future_connections_predict['cn-score'].reshape(future_connections_predict['cn-score'].shape[0],1))\n",
    "    proba_future_connect = [ proba[1] for proba in prediction_probas]\n",
    "    future_connect_series = pd.Series(proba_future_connect, index = future_connections_predict.index)\n",
    "    \n",
    "    return future_connect_series"
   ]
  },
  {
   "cell_type": "code",
   "execution_count": 37,
   "metadata": {},
   "outputs": [
    {
     "name": "stderr",
     "output_type": "stream",
     "text": [
      "/opt/conda/lib/python3.6/site-packages/ipykernel_launcher.py:26: FutureWarning: reshape is deprecated and will raise in a subsequent release. Please use .values.reshape(...) instead\n",
      "/opt/conda/lib/python3.6/site-packages/sklearn/utils/validation.py:526: DataConversionWarning: A column-vector y was passed when a 1d array was expected. Please change the shape of y to (n_samples, ), for example using ravel().\n",
      "  y = column_or_1d(y, warn=True)\n",
      "/opt/conda/lib/python3.6/site-packages/ipykernel_launcher.py:27: FutureWarning: reshape is deprecated and will raise in a subsequent release. Please use .values.reshape(...) instead\n",
      "/opt/conda/lib/python3.6/site-packages/ipykernel_launcher.py:31: FutureWarning: reshape is deprecated and will raise in a subsequent release. Please use .values.reshape(...) instead\n"
     ]
    },
    {
     "data": {
      "text/plain": [
       "edge\n",
       "(107, 348)    0.033871\n",
       "(542, 751)    0.013903\n",
       "(20, 426)     0.678855\n",
       "(50, 989)     0.013903\n",
       "(942, 986)    0.013903\n",
       "(324, 857)    0.013903\n",
       "(13, 710)     0.178164\n",
       "(19, 271)     0.178164\n",
       "(319, 878)    0.013903\n",
       "(659, 707)    0.013903\n",
       "(49, 843)     0.013903\n",
       "(208, 893)    0.013903\n",
       "(377, 469)    0.013903\n",
       "(405, 999)    0.021749\n",
       "(129, 740)    0.021749\n",
       "(292, 618)    0.021749\n",
       "(239, 689)    0.013903\n",
       "(359, 373)    0.013903\n",
       "(53, 523)     0.033871\n",
       "(276, 984)    0.013903\n",
       "(202, 997)    0.013903\n",
       "(604, 619)    0.033871\n",
       "(270, 911)    0.013903\n",
       "(261, 481)    0.080189\n",
       "(200, 450)    0.678855\n",
       "(213, 634)    0.013903\n",
       "(644, 735)    0.052389\n",
       "(346, 553)    0.013903\n",
       "(521, 738)    0.013903\n",
       "(422, 953)    0.021749\n",
       "                ...   \n",
       "(672, 848)    0.013903\n",
       "(28, 127)     0.892346\n",
       "(202, 661)    0.013903\n",
       "(54, 195)     0.998003\n",
       "(295, 864)    0.013903\n",
       "(814, 936)    0.013903\n",
       "(839, 874)    0.013903\n",
       "(139, 843)    0.013903\n",
       "(461, 544)    0.013903\n",
       "(68, 487)     0.013903\n",
       "(622, 932)    0.013903\n",
       "(504, 936)    0.021749\n",
       "(479, 528)    0.013903\n",
       "(186, 670)    0.013903\n",
       "(90, 395)     0.120860\n",
       "(329, 521)    0.033871\n",
       "(127, 218)    0.178164\n",
       "(463, 993)    0.013903\n",
       "(123, 142)    0.769233\n",
       "(764, 885)    0.013903\n",
       "(144, 824)    0.013903\n",
       "(742, 985)    0.013903\n",
       "(506, 684)    0.013903\n",
       "(505, 916)    0.013903\n",
       "(149, 214)    0.678855\n",
       "(165, 923)    0.013903\n",
       "(673, 755)    0.013903\n",
       "(939, 940)    0.013903\n",
       "(555, 905)    0.013903\n",
       "(75, 101)     0.021749\n",
       "Length: 122112, dtype: float64"
      ]
     },
     "execution_count": 37,
     "metadata": {},
     "output_type": "execute_result"
    }
   ],
   "source": [
    "new_connections_predictions()"
   ]
  },
  {
   "cell_type": "code",
   "execution_count": null,
   "metadata": {
    "collapsed": true
   },
   "outputs": [],
   "source": []
  }
 ],
 "metadata": {
  "coursera": {
   "course_slug": "python-social-network-analysis",
   "graded_item_id": "BGNwe",
   "launcher_item_id": "rMoj0",
   "part_id": "E2zRG"
  },
  "kernelspec": {
   "display_name": "Python 3",
   "language": "python",
   "name": "python3"
  },
  "language_info": {
   "codemirror_mode": {
    "name": "ipython",
    "version": 3
   },
   "file_extension": ".py",
   "mimetype": "text/x-python",
   "name": "python",
   "nbconvert_exporter": "python",
   "pygments_lexer": "ipython3",
   "version": "3.6.2"
  }
 },
 "nbformat": 4,
 "nbformat_minor": 2
}
