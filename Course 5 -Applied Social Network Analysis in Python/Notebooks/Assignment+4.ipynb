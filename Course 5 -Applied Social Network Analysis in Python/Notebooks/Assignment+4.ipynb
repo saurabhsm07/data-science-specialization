{
 "cells": [
  {
   "cell_type": "markdown",
   "metadata": {},
   "source": [
    "---\n",
    "\n",
    "_You are currently looking at **version 1.2** of this notebook. To download notebooks and datafiles, as well as get help on Jupyter notebooks in the Coursera platform, visit the [Jupyter Notebook FAQ](https://www.coursera.org/learn/python-social-network-analysis/resources/yPcBs) course resource._\n",
    "\n",
    "---"
   ]
  },
  {
   "cell_type": "markdown",
   "metadata": {},
   "source": [
    "# Assignment 4"
   ]
  },
  {
   "cell_type": "code",
   "execution_count": 1,
   "metadata": {
    "collapsed": true
   },
   "outputs": [],
   "source": [
    "import networkx as nx\n",
    "import pandas as pd\n",
    "import numpy as np\n",
    "import pickle"
   ]
  },
  {
   "cell_type": "markdown",
   "metadata": {},
   "source": [
    "---\n",
    "\n",
    "## Part 1 - Random Graph Identification\n",
    "\n",
    "For the first part of this assignment you will analyze randomly generated graphs and determine which algorithm created them."
   ]
  },
  {
   "cell_type": "code",
   "execution_count": 2,
   "metadata": {},
   "outputs": [
    {
     "data": {
      "text/plain": [
       "[<networkx.classes.graph.Graph at 0x7f5201398d68>,\n",
       " <networkx.classes.graph.Graph at 0x7f5201398e80>,\n",
       " <networkx.classes.graph.Graph at 0x7f5201398eb8>,\n",
       " <networkx.classes.graph.Graph at 0x7f5201398ef0>,\n",
       " <networkx.classes.graph.Graph at 0x7f5201398f28>]"
      ]
     },
     "execution_count": 2,
     "metadata": {},
     "output_type": "execute_result"
    }
   ],
   "source": [
    "P1_Graphs = pickle.load(open('A4_graphs','rb'))\n",
    "P1_Graphs"
   ]
  },
  {
   "cell_type": "code",
   "execution_count": 4,
   "metadata": {
    "collapsed": true
   },
   "outputs": [],
   "source": [
    "# count = 1\n",
    "# graph_dicts = {}\n",
    "# for graph in P1_Graphs:\n",
    "#     degree_unique_vals = sorted(set(graph.degree().values()), reverse=True)\n",
    "#     graph_dicts['graph-'+str(count)+'-degree-distribution'] = [(i, list(graph.degree().values()).count(i)/float(graph.number_of_nodes())) for i in degree_unique_vals]\n",
    "#     graph_dicts['graph-'+str(count)+'-clustering'] = nx.average_clustering(graph)\n",
    "#     graph_dicts['graph-'+str(count)+'-node_count'] = graph.number_of_nodes()\n",
    "#     graph_dicts['graph-'+str(count)+'-shortest-path'] = nx.average_shortest_path_length(graph)\n",
    "#     count=count+1"
   ]
  },
  {
   "cell_type": "code",
   "execution_count": 21,
   "metadata": {},
   "outputs": [
    {
     "data": {
      "text/plain": [
       "[(92, 0.0013333333333333333),\n",
       " (62, 0.0013333333333333333),\n",
       " (55, 0.0013333333333333333),\n",
       " (53, 0.0013333333333333333),\n",
       " (51, 0.0013333333333333333),\n",
       " (47, 0.0026666666666666666),\n",
       " (46, 0.004),\n",
       " (44, 0.0026666666666666666),\n",
       " (42, 0.0026666666666666666),\n",
       " (36, 0.0013333333333333333),\n",
       " (32, 0.0026666666666666666),\n",
       " (31, 0.0026666666666666666),\n",
       " (30, 0.0013333333333333333),\n",
       " (29, 0.004),\n",
       " (27, 0.008),\n",
       " (25, 0.0013333333333333333),\n",
       " (24, 0.0026666666666666666),\n",
       " (23, 0.0013333333333333333),\n",
       " (22, 0.008),\n",
       " (21, 0.005333333333333333),\n",
       " (20, 0.0013333333333333333),\n",
       " (19, 0.0013333333333333333),\n",
       " (18, 0.005333333333333333),\n",
       " (17, 0.012),\n",
       " (16, 0.006666666666666667),\n",
       " (15, 0.009333333333333334),\n",
       " (14, 0.010666666666666666),\n",
       " (13, 0.018666666666666668),\n",
       " (12, 0.02),\n",
       " (11, 0.017333333333333333),\n",
       " (10, 0.025333333333333333),\n",
       " (9, 0.03333333333333333),\n",
       " (8, 0.06266666666666666),\n",
       " (7, 0.07733333333333334),\n",
       " (6, 0.11866666666666667),\n",
       " (5, 0.17733333333333334),\n",
       " (4, 0.3453333333333333)]"
      ]
     },
     "execution_count": 21,
     "metadata": {},
     "output_type": "execute_result"
    }
   ],
   "source": [
    "# degree distribution analysis\n",
    "# graph_dicts['graph-4-degree-distribution']"
   ]
  },
  {
   "cell_type": "code",
   "execution_count": 11,
   "metadata": {},
   "outputs": [
    {
     "name": "stdout",
     "output_type": "stream",
     "text": [
      "0.03167539146454044\n",
      "0.5642419635919628\n",
      "0.4018222222222227\n",
      "0.03780379975223251\n",
      "0.0033037037037037037\n"
     ]
    }
   ],
   "source": [
    "# # clustering distribution analysis\n",
    "# for i in range(1,6):\n",
    "#     print(graph_dicts['graph-{}-clustering'.format(i)])"
   ]
  },
  {
   "cell_type": "code",
   "execution_count": 12,
   "metadata": {},
   "outputs": [
    {
     "name": "stdout",
     "output_type": "stream",
     "text": [
      "4.099161161161161\n",
      "5.089871871871872\n",
      "9.378702269692925\n",
      "3.1048046283934134\n",
      "5.0785509568313305\n"
     ]
    }
   ],
   "source": [
    "# # shortest path distribution analysis\n",
    "# for i in range(1,6):\n",
    "#     print(graph_dicts['graph-{}-shortest-path'.format(i)])"
   ]
  },
  {
   "cell_type": "code",
   "execution_count": 14,
   "metadata": {},
   "outputs": [
    {
     "name": "stdout",
     "output_type": "stream",
     "text": [
      "1000\n",
      "1000\n",
      "750\n",
      "750\n",
      "750\n"
     ]
    }
   ],
   "source": [
    "# # node count in each graph\n",
    "# for i in range(1,6):\n",
    "#     print(graph_dicts['graph-{}-node_count'.format(i)])"
   ]
  },
  {
   "cell_type": "markdown",
   "metadata": {},
   "source": [
    "<br>\n",
    "`P1_Graphs` is a list containing 5 networkx graphs. Each of these graphs were generated by one of three possible algorithms:\n",
    "* Preferential Attachment (`'PA'`)\n",
    "* Small World with low probability of rewiring (`'SW_L'`)\n",
    "* Small World with high probability of rewiring (`'SW_H'`)\n",
    "\n",
    "Anaylze each of the 5 graphs and determine which of the three algorithms generated the graph.\n",
    "\n",
    "*The `graph_identification` function should return a list of length 5 where each element in the list is either `'PA'`, `'SW_L'`, or `'SW_H'`.*"
   ]
  },
  {
   "cell_type": "code",
   "execution_count": null,
   "metadata": {
    "collapsed": true
   },
   "outputs": [],
   "source": [
    "def graph_identification():\n",
    "    \n",
    "    # Your Code Here\n",
    "    \n",
    "    return ['SW_L','SW_H','SW_H','SW_L','PA']"
   ]
  },
  {
   "cell_type": "markdown",
   "metadata": {},
   "source": [
    "---\n",
    "\n",
    "## Part 2 - Company Emails\n",
    "\n",
    "For the second part of this assignment you will be workking with a company's email network where each node corresponds to a person at the company, and each edge indicates that at least one email has been sent between two people.\n",
    "\n",
    "The network also contains the node attributes `Department` and `ManagementSalary`.\n",
    "\n",
    "`Department` indicates the department in the company which the person belongs to, and `ManagementSalary` indicates whether that person is receiving a management position salary."
   ]
  },
  {
   "cell_type": "code",
   "execution_count": 104,
   "metadata": {},
   "outputs": [
    {
     "name": "stdout",
     "output_type": "stream",
     "text": [
      "Name: \n",
      "Type: Graph\n",
      "Number of nodes: 1005\n",
      "Number of edges: 16706\n",
      "Average degree:  33.2458\n"
     ]
    }
   ],
   "source": [
    "G = nx.read_gpickle('email_prediction.txt')\n",
    "\n",
    "print(nx.info(G))"
   ]
  },
  {
   "cell_type": "markdown",
   "metadata": {},
   "source": [
    "### Part 2A - Salary Prediction\n",
    "\n",
    "Using network `G`, identify the people in the network with missing values for the node attribute `ManagementSalary` and predict whether or not these individuals are receiving a management position salary.\n",
    "\n",
    "To accomplish this, you will need to create a matrix of node features using networkx, train a sklearn classifier on nodes that have `ManagementSalary` data, and predict a probability of the node receiving a management salary for nodes where `ManagementSalary` is missing.\n",
    "\n",
    "\n",
    "\n",
    "Your predictions will need to be given as the probability that the corresponding employee is receiving a management position salary.\n",
    "\n",
    "The evaluation metric for this assignment is the Area Under the ROC Curve (AUC).\n",
    "\n",
    "Your grade will be based on the AUC score computed for your classifier. A model which with an AUC of 0.88 or higher will receive full points, and with an AUC of 0.82 or higher will pass (get 80% of the full points).\n",
    "\n",
    "Using your trained classifier, return a series of length 252 with the data being the probability of receiving management salary, and the index being the node id.\n",
    "\n",
    "    Example:\n",
    "    \n",
    "        1       1.0\n",
    "        2       0.0\n",
    "        5       0.8\n",
    "        8       1.0\n",
    "            ...\n",
    "        996     0.7\n",
    "        1000    0.5\n",
    "        1001    0.0\n",
    "        Length: 252, dtype: float64"
   ]
  },
  {
   "cell_type": "code",
   "execution_count": 139,
   "metadata": {
    "collapsed": true
   },
   "outputs": [],
   "source": [
    "nodes = G.nodes(data=True)\n",
    "df = pd.DataFrame(index = G.nodes())\n",
    "df['department'] = pd.Series(nx.get_node_attributes(G, 'Department'))\n",
    "df['management-salary'] = pd.Series(nx.get_node_attributes(G, 'ManagementSalary'))\n",
    "df['degrees'] = pd.Series(nx.degree(G))\n",
    "df['clustering'] = pd.Series(nx.clustering(G))\n",
    "# node_attributes_from_graph = [(node[0], node[1]['Department'], node[1]['ManagementSalary']) for node in nodes]"
   ]
  },
  {
   "cell_type": "code",
   "execution_count": 140,
   "metadata": {
    "collapsed": true
   },
   "outputs": [],
   "source": [
    "def mgmt_emails(row, salary_type_dict):\n",
    "    edges = G.edges(row['nodes'])\n",
    "    mgmt_emails = 0\n",
    "    for edge in edges:\n",
    "        if salary_type_dict[edge[1]] == 1:\n",
    "            mgmt_emails=mgmt_emails+1\n",
    "    row['mgmt_communication'] = mgmt_emails\n",
    "    return row\n",
    "\n"
   ]
  },
  {
   "cell_type": "code",
   "execution_count": 141,
   "metadata": {
    "collapsed": true
   },
   "outputs": [],
   "source": [
    "def non_mgmt_emails(row, salary_type_dict):\n",
    "    edges = G.edges(row['nodes'])\n",
    "    non_mgmt_emails = 0\n",
    "    for edge in edges:\n",
    "        if salary_type_dict[edge[1]] == 0:\n",
    "            non_mgmt_emails=non_mgmt_emails+1\n",
    "    row['non_mgmt_communication'] = non_mgmt_emails\n",
    "    return row"
   ]
  },
  {
   "cell_type": "code",
   "execution_count": 142,
   "metadata": {
    "collapsed": true
   },
   "outputs": [],
   "source": [
    "def unknown_emails(row, salary_type_dict):\n",
    "    edges = G.edges(row['nodes'])\n",
    "    unknown_emails = 0\n",
    "    for edge in edges:\n",
    "        if np.isnan(salary_type_dict[edge[1]]):\n",
    "            unknown_emails=unknown_emails+1\n",
    "    row['unknown_communication'] = unknown_emails\n",
    "    return row"
   ]
  },
  {
   "cell_type": "code",
   "execution_count": 143,
   "metadata": {
    "collapsed": true
   },
   "outputs": [],
   "source": [
    "df = (df.reset_index()\n",
    "        .rename(columns={'index': 'nodes'})\n",
    "        .apply(mgmt_emails,args=(nx.get_node_attributes(G,'ManagementSalary'),), axis=1)\n",
    "        .apply(non_mgmt_emails,args=(nx.get_node_attributes(G,'ManagementSalary'),), axis=1)\n",
    "        .apply(unknown_emails,args=(nx.get_node_attributes(G,'ManagementSalary'),), axis=1))"
   ]
  },
  {
   "cell_type": "code",
   "execution_count": 145,
   "metadata": {},
   "outputs": [
    {
     "name": "stdout",
     "output_type": "stream",
     "text": [
      "<class 'pandas.core.frame.DataFrame'>\n",
      "RangeIndex: 1005 entries, 0 to 1004\n",
      "Data columns (total 8 columns):\n",
      "nodes                     1005 non-null float64\n",
      "department                1005 non-null float64\n",
      "management-salary         753 non-null float64\n",
      "degrees                   1005 non-null float64\n",
      "clustering                1005 non-null float64\n",
      "mgmt_communication        1005 non-null float64\n",
      "non_mgmt_communication    1005 non-null float64\n",
      "unknown_communication     1005 non-null int64\n",
      "dtypes: float64(7), int64(1)\n",
      "memory usage: 62.9 KB\n"
     ]
    }
   ],
   "source": [
    "df.info()"
   ]
  },
  {
   "cell_type": "code",
   "execution_count": 148,
   "metadata": {},
   "outputs": [
    {
     "name": "stdout",
     "output_type": "stream",
     "text": [
      "<class 'pandas.core.frame.DataFrame'>\n",
      "Int64Index: 753 entries, 0 to 1004\n",
      "Data columns (total 8 columns):\n",
      "nodes                     753 non-null float64\n",
      "department                753 non-null float64\n",
      "management-salary         753 non-null float64\n",
      "degrees                   753 non-null float64\n",
      "clustering                753 non-null float64\n",
      "mgmt_communication        753 non-null float64\n",
      "non_mgmt_communication    753 non-null float64\n",
      "unknown_communication     753 non-null int64\n",
      "dtypes: float64(7), int64(1)\n",
      "memory usage: 52.9 KB\n"
     ]
    }
   ],
   "source": [
    "df_training = df[df['management-salary'].isnull() == False]\n",
    "df_training.info()"
   ]
  },
  {
   "cell_type": "code",
   "execution_count": 149,
   "metadata": {},
   "outputs": [
    {
     "name": "stdout",
     "output_type": "stream",
     "text": [
      "<class 'pandas.core.frame.DataFrame'>\n",
      "Int64Index: 252 entries, 1 to 1001\n",
      "Data columns (total 8 columns):\n",
      "nodes                     252 non-null float64\n",
      "department                252 non-null float64\n",
      "management-salary         0 non-null float64\n",
      "degrees                   252 non-null float64\n",
      "clustering                252 non-null float64\n",
      "mgmt_communication        252 non-null float64\n",
      "non_mgmt_communication    252 non-null float64\n",
      "unknown_communication     252 non-null int64\n",
      "dtypes: float64(7), int64(1)\n",
      "memory usage: 17.7 KB\n"
     ]
    }
   ],
   "source": [
    "df_prediction = df[df['management-salary'].isnull()]\n",
    "df_prediction.info()"
   ]
  },
  {
   "cell_type": "code",
   "execution_count": null,
   "metadata": {
    "collapsed": true
   },
   "outputs": [],
   "source": [
    "from sklearn.model_selection import train_test_split\n",
    "train_test_split?\n",
    "X_train, X_test, y_train, y_test = train_test_split(df_training.loc[:, df_])"
   ]
  },
  {
   "cell_type": "code",
   "execution_count": null,
   "metadata": {
    "collapsed": true
   },
   "outputs": [],
   "source": [
    "def salary_predictions():\n",
    "    \n",
    "    # Your Code Here\n",
    "    \n",
    "    return # Your Answer Here"
   ]
  },
  {
   "cell_type": "markdown",
   "metadata": {},
   "source": [
    "### Part 2B - New Connections Prediction\n",
    "\n",
    "For the last part of this assignment, you will predict future connections between employees of the network. The future connections information has been loaded into the variable `future_connections`. The index is a tuple indicating a pair of nodes that currently do not have a connection, and the `Future Connection` column indicates if an edge between those two nodes will exist in the future, where a value of 1.0 indicates a future connection."
   ]
  },
  {
   "cell_type": "code",
   "execution_count": null,
   "metadata": {
    "collapsed": true
   },
   "outputs": [],
   "source": [
    "future_connections = pd.read_csv('Future_Connections.csv', index_col=0, converters={0: eval})\n",
    "future_connections.head(10)"
   ]
  },
  {
   "cell_type": "markdown",
   "metadata": {},
   "source": [
    "Using network `G` and `future_connections`, identify the edges in `future_connections` with missing values and predict whether or not these edges will have a future connection.\n",
    "\n",
    "To accomplish this, you will need to create a matrix of features for the edges found in `future_connections` using networkx, train a sklearn classifier on those edges in `future_connections` that have `Future Connection` data, and predict a probability of the edge being a future connection for those edges in `future_connections` where `Future Connection` is missing.\n",
    "\n",
    "\n",
    "\n",
    "Your predictions will need to be given as the probability of the corresponding edge being a future connection.\n",
    "\n",
    "The evaluation metric for this assignment is the Area Under the ROC Curve (AUC).\n",
    "\n",
    "Your grade will be based on the AUC score computed for your classifier. A model which with an AUC of 0.88 or higher will receive full points, and with an AUC of 0.82 or higher will pass (get 80% of the full points).\n",
    "\n",
    "Using your trained classifier, return a series of length 122112 with the data being the probability of the edge being a future connection, and the index being the edge as represented by a tuple of nodes.\n",
    "\n",
    "    Example:\n",
    "    \n",
    "        (107, 348)    0.35\n",
    "        (542, 751)    0.40\n",
    "        (20, 426)     0.55\n",
    "        (50, 989)     0.35\n",
    "                  ...\n",
    "        (939, 940)    0.15\n",
    "        (555, 905)    0.35\n",
    "        (75, 101)     0.65\n",
    "        Length: 122112, dtype: float64"
   ]
  },
  {
   "cell_type": "code",
   "execution_count": null,
   "metadata": {
    "collapsed": true
   },
   "outputs": [],
   "source": [
    "def new_connections_predictions():\n",
    "    \n",
    "    # Your Code Here\n",
    "    \n",
    "    return # Your Answer Here"
   ]
  }
 ],
 "metadata": {
  "coursera": {
   "course_slug": "python-social-network-analysis",
   "graded_item_id": "BGNwe",
   "launcher_item_id": "rMoj0",
   "part_id": "E2zRG"
  },
  "kernelspec": {
   "display_name": "Python 3",
   "language": "python",
   "name": "python3"
  },
  "language_info": {
   "codemirror_mode": {
    "name": "ipython",
    "version": 3
   },
   "file_extension": ".py",
   "mimetype": "text/x-python",
   "name": "python",
   "nbconvert_exporter": "python",
   "pygments_lexer": "ipython3",
   "version": "3.6.2"
  }
 },
 "nbformat": 4,
 "nbformat_minor": 2
}
