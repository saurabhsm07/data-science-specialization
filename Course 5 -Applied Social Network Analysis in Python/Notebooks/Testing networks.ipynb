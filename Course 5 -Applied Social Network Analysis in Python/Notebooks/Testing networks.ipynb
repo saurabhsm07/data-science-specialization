{
 "cells": [
  {
   "cell_type": "code",
   "execution_count": 2,
   "metadata": {},
   "outputs": [],
   "source": [
    "import networkx as nx\n",
    "\n",
    "G=nx.MultiGraph()\n",
    "G.add_node('A',role='manager')\n",
    "G.add_edge('A','B',relation = 'friend')\n",
    "G.add_edge('A','C', relation = 'business partner')\n",
    "G.add_edge('A','B', relation = 'classmate')\n",
    "G.node['A']['role'] = 'team member'\n",
    "G.node['B']['role'] = 'engineer'"
   ]
  },
  {
   "cell_type": "code",
   "execution_count": 11,
   "metadata": {},
   "outputs": [
    {
     "data": {
      "text/plain": [
       "'friend'"
      ]
     },
     "execution_count": 11,
     "metadata": {},
     "output_type": "execute_result"
    }
   ],
   "source": [
    "G['A']['B'][0]['relation']"
   ]
  },
  {
   "cell_type": "code",
   "execution_count": 13,
   "metadata": {},
   "outputs": [],
   "source": [
    "import networkx as nx\n",
    "\n",
    "G=nx.MultiGraph()\n",
    "G.add_node('A',role='manager')\n",
    "G.add_edge('A','B',relation = 'friend')\n",
    "G.add_edge('A','C', relation = 'business partner')\n",
    "G.add_edge('A','B', relation = 'classmate')\n",
    "G.node['A']['role'] = 'team member'\n",
    "G.node['B']['role'] = 'engineer'"
   ]
  },
  {
   "cell_type": "code",
   "execution_count": 19,
   "metadata": {},
   "outputs": [
    {
     "data": {
      "text/plain": [
       "MultiEdgeDataView([('A', 'B', {'relation': 'friend'}), ('A', 'B', {'relation': 'classmate'}), ('A', 'C', {'relation': 'business partner'})])"
      ]
     },
     "execution_count": 19,
     "metadata": {},
     "output_type": "execute_result"
    }
   ],
   "source": [
    "G.edges(data=True)"
   ]
  },
  {
   "cell_type": "code",
   "execution_count": null,
   "metadata": {},
   "outputs": [],
   "source": []
  }
 ],
 "metadata": {
  "kernelspec": {
   "display_name": "Python 3",
   "language": "python",
   "name": "python3"
  },
  "language_info": {
   "codemirror_mode": {
    "name": "ipython",
    "version": 3
   },
   "file_extension": ".py",
   "mimetype": "text/x-python",
   "name": "python",
   "nbconvert_exporter": "python",
   "pygments_lexer": "ipython3",
   "version": "3.6.5"
  }
 },
 "nbformat": 4,
 "nbformat_minor": 2
}
