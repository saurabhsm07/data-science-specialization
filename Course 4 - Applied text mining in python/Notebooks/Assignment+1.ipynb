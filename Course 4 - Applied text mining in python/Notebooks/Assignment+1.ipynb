{
 "cells": [
  {
   "cell_type": "markdown",
   "metadata": {},
   "source": [
    "---\n",
    "\n",
    "_You are currently looking at **version 1.1** of this notebook. To download notebooks and datafiles, as well as get help on Jupyter notebooks in the Coursera platform, visit the [Jupyter Notebook FAQ](https://www.coursera.org/learn/python-text-mining/resources/d9pwm) course resource._\n",
    "\n",
    "---"
   ]
  },
  {
   "cell_type": "markdown",
   "metadata": {},
   "source": [
    "# Assignment 1\n",
    "\n",
    "In this assignment, you'll be working with messy medical data and using regex to extract relevant infromation from the data. \n",
    "\n",
    "Each line of the `dates.txt` file corresponds to a medical note. Each note has a date that needs to be extracted, but each date is encoded in one of many formats.\n",
    "\n",
    "The goal of this assignment is to correctly identify all of the different date variants encoded in this dataset and to properly normalize and sort the dates. \n",
    "\n",
    "Here is a list of some of the variants you might encounter in this dataset:\n",
    "* 04/20/2009; 04/20/09; 4/20/09; 4/3/09\n",
    "* Mar-20-2009; Mar 20, 2009; March 20, 2009;  Mar. 20, 2009; Mar 20 2009;\n",
    "* 20 Mar 2009; 20 March 2009; 20 Mar. 2009; 20 March, 2009\n",
    "* Mar 20th, 2009; Mar 21st, 2009; Mar 22nd, 2009\n",
    "* Feb 2009; Sep 2009; Oct 2010\n",
    "* 6/2008; 12/2009\n",
    "* 2009; 2010\n",
    "\n",
    "Once you have extracted these date patterns from the text, the next step is to sort them in ascending chronological order accoring to the following rules:\n",
    "* Assume all dates in xx/xx/xx format are mm/dd/yy\n",
    "* Assume all dates where year is encoded in only two digits are years from the 1900's (e.g. 1/5/89 is January 5th, 1989)\n",
    "* If the day is missing (e.g. 9/2009), assume it is the first day of the month (e.g. September 1, 2009).\n",
    "* If the month is missing (e.g. 2010), assume it is the first of January of that year (e.g. January 1, 2010).\n",
    "* Watch out for potential typos as this is a raw, real-life derived dataset.\n",
    "\n",
    "With these rules in mind, find the correct date in each note and return a pandas Series in chronological order of the original Series' indices.\n",
    "\n",
    "For example if the original series was this:\n",
    "\n",
    "    0    1999\n",
    "    1    2010\n",
    "    2    1978\n",
    "    3    2015\n",
    "    4    1985\n",
    "\n",
    "Your function should return this:\n",
    "\n",
    "    0    2\n",
    "    1    4\n",
    "    2    0\n",
    "    3    1\n",
    "    4    3\n",
    "\n",
    "Your score will be calculated using [Kendall's tau](https://en.wikipedia.org/wiki/Kendall_rank_correlation_coefficient), a correlation measure for ordinal data.\n",
    "\n",
    "*This function should return a Series of length 500 and dtype int.*"
   ]
  },
  {
   "cell_type": "code",
   "execution_count": null,
   "metadata": {},
   "outputs": [],
   "source": [
    "import pandas as pd\n",
    "import numpy as np\n",
    "import re\n",
    "doc = []\n",
    "with open('./../Datasets/dates.txt') as file:\n",
    "    for line in file:\n",
    "        doc.append(line)\n",
    "\n",
    "df = pd.Series(doc)\n",
    "df.head(5)"
   ]
  },
  {
   "cell_type": "code",
   "execution_count": null,
   "metadata": {},
   "outputs": [],
   "source": [
    "df.shape"
   ]
  },
  {
   "cell_type": "code",
   "execution_count": null,
   "metadata": {},
   "outputs": [],
   "source": [
    "# 04/20/2009; 04/20/09; 4/20/09; 4/3/09\n",
    "# Mar-20-2009; Mar 20, 2009; March 20, 2009; Mar. 20, 2009; Mar 20 2009;\n",
    "# 20 Mar 2009; 20 March 2009; 20 Mar. 2009; 20 March, 2009\n",
    "# Mar 20th, 2009; Mar 21st, 2009; Mar 22nd, 2009\n",
    "# Feb 2009; Sep 2009; Oct 2010\n",
    "# 6/2008; 12/2009\n",
    "# 2009; 2010\n",
    "df2 = df.str.extractall(r'(?P<Dates>(?:(?:\\d{1,2})[-/](?:\\d{1,2}[-/])(?:\\d{2,4})|(?:\\d{1,2})?(?:Jan|Feb|Mar|Apr|May|Jun|Jul|Aug|Sep|Oct|Nov|Dec)[a-z]*[,-. ]{0,2}(?:\\d{0,2}(?:nd|th|st)?)?[,-. ]{0,2}\\d{2,4}|\\d{4}))')"
   ]
  },
  {
   "cell_type": "code",
   "execution_count": null,
   "metadata": {},
   "outputs": [],
   "source": [
    "df2[\"Dates\"] = df2[\"Dates\"].str.replace(\"[-., ]+\",\"/\",regex=True)"
   ]
  },
  {
   "cell_type": "code",
   "execution_count": null,
   "metadata": {},
   "outputs": [],
   "source": [
    "date_types = {'mm/dd/yyyy': 0,\n",
    "              'mm/dd/yy':0,\n",
    "              'month/yyyy':0,\n",
    "              'dd/month/yyyy':0,\n",
    "              'yyyy':0\n",
    "             }\n",
    "def add_proper_dates(row):\n",
    "    if re.match(r\"^\\d{1,2}/\\d{1,2}/\\d{4}\",row[\"Dates\"]):      # mm/dd/yyyy\n",
    "#         print(\"matched 1\")\n",
    "        date_types[]\n",
    "        row[\"Dates_new\"] = row[\"Dates\"]\n",
    "    elif re.match(r\"^\\d{4}$\",row[\"Dates\"]):                  #yyyy\n",
    "        if int(row[\"Dates\"]) < 2019:\n",
    "#             print(\"matched 2\")\n",
    "            row[\"Dates_new\"] = \"01/01/\"+row[\"Dates\"] \n",
    "    elif re.match(r\".*/\\d{2}$\",row[\"Dates\"]):                #mm/dd/yy\n",
    "        print(\"matched 3\")\n",
    "        row[\"Dates_new\"] = re.sub(r'\\d{2}$',\"19\"+row[\"Dates\"].rsplit(\"/\", 1)[-1],row[\"Dates\"])\n",
    "    elif re.match(r\"\",row[\"Dates\"])                         #mm/yyyy\n",
    "    else:\n",
    "#         print(row[\"Dates\"])\n",
    "        row = row\n",
    "#         print(\"didnt match shit\")\n",
    "    return row\n",
    "df2 = df2.apply(add_proper_dates, axis =1)"
   ]
  },
  {
   "cell_type": "code",
   "execution_count": null,
   "metadata": {},
   "outputs": [],
   "source": [
    "df2[df2[\"Dates\"].str.contains(\"[a-z]{2,11}/\\d{4}$\")].shape\n",
    "# if re.match(r'-',\"month/1222\"):\n",
    "#     print(\"true\")\n",
    "\n",
    "# for case month/yyyy = convert to numeric and add date in the middle of mm and yyyy\n",
    "# case dd/month/yyyy = convert month to numeric and interchange month and dd to form mm/dd/yyyy"
   ]
  },
  {
   "cell_type": "code",
   "execution_count": null,
   "metadata": {},
   "outputs": [],
   "source": [
    "df2[df2[\"Dates\"].str.contains(\"\\d{1,2}/[A-Z]?[a-z]{2,11}/\\d{4}$\")]\n"
   ]
  },
  {
   "cell_type": "code",
   "execution_count": null,
   "metadata": {},
   "outputs": [],
   "source": []
  },
  {
   "cell_type": "code",
   "execution_count": null,
   "metadata": {},
   "outputs": [],
   "source": [
    "df2[df2[\"Dates\"].str.contains(\"/\\d{2}$\")]"
   ]
  },
  {
   "cell_type": "code",
   "execution_count": null,
   "metadata": {},
   "outputs": [],
   "source": [
    "def date_sorter():\n",
    "    \n",
    "    # Your code here\n",
    "    \n",
    "    return # Your answer here"
   ]
  },
  {
   "cell_type": "code",
   "execution_count": null,
   "metadata": {},
   "outputs": [],
   "source": [
    "df2[\"Dates\"].replace({\"Jan[a-z]*\":\"01\",\"Feb[a-z]*\":\"02\",\"Mar[a-z]*\":\"03\",\"Apr[a-z]*\":\"04\",\"May[a-z]*\":\"05\",\"Jun[a-z]*\":\"06\",\"Jul[a-z]*\":\"07\",\"Aug[a-z]*\":\"08\",\"Sep[a-z]*\":\"09\",\"Oct[a-z]*\":\"10\",\"Nov[a-z]*\":\"11\",\"Dec[a-z]*\":\"12\",\"[., -]{1,2}\":\"/\",\" \":\"/\"},inplace = True, regex=True)"
   ]
  }
 ],
 "metadata": {
  "coursera": {
   "course_slug": "python-text-mining",
   "graded_item_id": "LvcWI",
   "launcher_item_id": "krne9",
   "part_id": "Mkp1I"
  },
  "kernelspec": {
   "display_name": "Python 3",
   "language": "python",
   "name": "python3"
  },
  "language_info": {
   "codemirror_mode": {
    "name": "ipython",
    "version": 3
   },
   "file_extension": ".py",
   "mimetype": "text/x-python",
   "name": "python",
   "nbconvert_exporter": "python",
   "pygments_lexer": "ipython3",
   "version": "3.6.5"
  }
 },
 "nbformat": 4,
 "nbformat_minor": 2
}
