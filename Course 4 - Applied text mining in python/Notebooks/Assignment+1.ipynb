{
 "cells": [
  {
   "cell_type": "markdown",
   "metadata": {},
   "source": [
    "---\n",
    "\n",
    "_You are currently looking at **version 1.1** of this notebook. To download notebooks and datafiles, as well as get help on Jupyter notebooks in the Coursera platform, visit the [Jupyter Notebook FAQ](https://www.coursera.org/learn/python-text-mining/resources/d9pwm) course resource._\n",
    "\n",
    "---"
   ]
  },
  {
   "cell_type": "markdown",
   "metadata": {},
   "source": [
    "# Assignment 1\n",
    "\n",
    "In this assignment, you'll be working with messy medical data and using regex to extract relevant infromation from the data. \n",
    "\n",
    "Each line of the `dates.txt` file corresponds to a medical note. Each note has a date that needs to be extracted, but each date is encoded in one of many formats.\n",
    "\n",
    "The goal of this assignment is to correctly identify all of the different date variants encoded in this dataset and to properly normalize and sort the dates. \n",
    "\n",
    "Here is a list of some of the variants you might encounter in this dataset:\n",
    "* 04/20/2009; 04/20/09; 4/20/09; 4/3/09\n",
    "* Mar-20-2009; Mar 20, 2009; March 20, 2009;  Mar. 20, 2009; Mar 20 2009;\n",
    "* 20 Mar 2009; 20 March 2009; 20 Mar. 2009; 20 March, 2009\n",
    "* Mar 20th, 2009; Mar 21st, 2009; Mar 22nd, 2009\n",
    "* Feb 2009; Sep 2009; Oct 2010\n",
    "* 6/2008; 12/2009\n",
    "* 2009; 2010\n",
    "\n",
    "Once you have extracted these date patterns from the text, the next step is to sort them in ascending chronological order accoring to the following rules:\n",
    "* Assume all dates in xx/xx/xx format are mm/dd/yy\n",
    "* Assume all dates where year is encoded in only two digits are years from the 1900's (e.g. 1/5/89 is January 5th, 1989)\n",
    "* If the day is missing (e.g. 9/2009), assume it is the first day of the month (e.g. September 1, 2009).\n",
    "* If the month is missing (e.g. 2010), assume it is the first of January of that year (e.g. January 1, 2010).\n",
    "* Watch out for potential typos as this is a raw, real-life derived dataset.\n",
    "\n",
    "With these rules in mind, find the correct date in each note and return a pandas Series in chronological order of the original Series' indices.\n",
    "\n",
    "For example if the original series was this:\n",
    "\n",
    "    0    1999\n",
    "    1    2010\n",
    "    2    1978\n",
    "    3    2015\n",
    "    4    1985\n",
    "\n",
    "Your function should return this:\n",
    "\n",
    "    0    2\n",
    "    1    4\n",
    "    2    0\n",
    "    3    1\n",
    "    4    3\n",
    "\n",
    "Your score will be calculated using [Kendall's tau](https://en.wikipedia.org/wiki/Kendall_rank_correlation_coefficient), a correlation measure for ordinal data.\n",
    "\n",
    "*This function should return a Series of length 500 and dtype int.*"
   ]
  },
  {
   "cell_type": "code",
   "execution_count": null,
   "metadata": {},
   "outputs": [],
   "source": [
    "import pandas as pd\n",
    "import numpy as np\n",
    "import re\n",
    "doc = []\n",
    "with open('./../Datasets/dates.txt') as file:\n",
    "    for line in file:\n",
    "        doc.append(line)\n",
    "\n",
    "df = pd.Series(doc)\n",
    "df.head(5)"
   ]
  },
  {
   "cell_type": "code",
   "execution_count": null,
   "metadata": {},
   "outputs": [],
   "source": [
    "def date_sorter():\n",
    "        # 04/20/2009; 04/20/09; 4/20/09; 4/3/09\n",
    "    # Mar-20-2009; Mar 20, 2009; March 20, 2009; Mar. 20, 2009; Mar 20 2009;\n",
    "    # 20 Mar 2009; 20 March 2009; 20 Mar. 2009; 20 March, 2009\n",
    "    # Mar 20th, 2009; Mar 21st, 2009; Mar 22nd, 2009\n",
    "    # Feb 2009; Sep 2009; Oct 2010\n",
    "    # 6/2008; 12/2009\n",
    "    # 2009; 2010\n",
    "    df2 = df.str.extractall(r'(?P<Dates>(?:(?:\\d{1,2})[-/](?:\\d{1,2}[-/])(?:\\d{2,4})|(?:\\d{1,2})?(?:Jan|Feb|Mar|Apr|May|Jun|Jul|Aug|Sep|Oct|Nov|Dec)[a-z]*[,-. ]{0,2}(?:\\d{0,2}(?:nd|th|st)?)?[,-. ]{0,2}\\d{2,4}|\\d{4}))')\n",
    "    df2[\"Dates\"] = df2[\"Dates\"].str.replace(\"[-., ]+\",\"/\",regex=True)\n",
    "    df2 = df2.apply(add_proper_dates, axis =1)\n",
    "    df2[\"Dates_new\"].replace({\"Jan[a-z]*\":\"01\",\"Feb[a-z]*\":\"02\",\"Mar[a-z]*\":\"03\",\"Apr[a-z]*\":\"04\",\"May[a-z]*\":\"05\",\"Jun[a-z]*\":\"06\",\"Jul[a-z]*\":\"07\",\"Aug[a-z]*\":\"08\",\"Sep[a-z]*\":\"09\",\"Oct[a-z]*\":\"10\",\"Nov[a-z]*\":\"11\",\"Dec[a-z]*\":\"12\"},inplace = True, regex=True)\n",
    "    df2 = df2[df2[\"Dates_new\"].isnull()!=True]\n",
    "\n",
    "    df2 = (df2.reset_index()\n",
    "              .drop([\"level_0\",\"match\",\"Dates\"], axis=1)\n",
    "              .rename({\"Dates_new\":\"Dates\"}, axis=1))\n",
    "\n",
    "    df2[\"Dates\"] = pd.to_datetime(df2[\"Dates\"])\n",
    "\n",
    "    result = (df2.sort_values(\"Dates\",ascending=True)\n",
    "                  .reset_index()\n",
    "                  .rename({\"index\":\"position\"},axis =1)\n",
    "                  .iloc[:,0])\n",
    "    # Your code here\n",
    "    \n",
    "    return pd.Series(result.tolist())"
   ]
  },
  {
   "cell_type": "code",
   "execution_count": null,
   "metadata": {},
   "outputs": [],
   "source": [
    "date_sorter()"
   ]
  },
  {
   "cell_type": "code",
   "execution_count": null,
   "metadata": {},
   "outputs": [],
   "source": [
    "# def test():\n",
    "#     import pandas as pd\n",
    "\n",
    "#     fun = date_sorter()\n",
    "#     res = 'Data Type Test (Series?): '\n",
    "#     res += ['Failed\\n','Passed\\n'][type(fun)==pd.Series]\n",
    "    \n",
    "#     res += 'Data Shape Test ((500,)?): '\n",
    "#     res += ['Failed\\n','Passed\\n'][fun.shape==(500,)]\n",
    "    \n",
    "#     res += 'Index Values Test (range(500)?): '\n",
    "#     res += ['Failed\\n','Passed\\n'][fun.index.tolist()==list(range(500))]\n",
    "    \n",
    "#     res += 'Values Test (0-499): '\n",
    "#     res += ['Failed\\n','Passed\\n'][all((fun<500) & (fun>=0))]\n",
    "    \n",
    "#     return res\n",
    "# print(test())"
   ]
  }
 ],
 "metadata": {
  "coursera": {
   "course_slug": "python-text-mining",
   "graded_item_id": "LvcWI",
   "launcher_item_id": "krne9",
   "part_id": "Mkp1I"
  },
  "kernelspec": {
   "display_name": "Python 3",
   "language": "python",
   "name": "python3"
  },
  "language_info": {
   "codemirror_mode": {
    "name": "ipython",
    "version": 3
   },
   "file_extension": ".py",
   "mimetype": "text/x-python",
   "name": "python",
   "nbconvert_exporter": "python",
   "pygments_lexer": "ipython3",
   "version": "3.6.5"
  }
 },
 "nbformat": 4,
 "nbformat_minor": 2
}
