{
 "cells": [
  {
   "cell_type": "markdown",
   "metadata": {},
   "source": [
    "# Assignment 3 - Building a Custom Visualization\n",
    "\n",
    "---\n",
    "\n",
    "In this assignment you must choose one of the options presented below and submit a visual as well as your source code for peer grading. The details of how you solve the assignment are up to you, although your assignment must use matplotlib so that your peers can evaluate your work. The options differ in challenge level, but there are no grades associated with the challenge level you chose. However, your peers will be asked to ensure you at least met a minimum quality for a given technique in order to pass. Implement the technique fully (or exceed it!) and you should be able to earn full grades for the assignment.\n",
    "\n",
    "\n",
    "&nbsp;&nbsp;&nbsp;&nbsp;&nbsp;&nbsp;Ferreira, N., Fisher, D., & Konig, A. C. (2014, April). [Sample-oriented task-driven visualizations: allowing users to make better, more confident decisions.](https://www.microsoft.com/en-us/research/wp-content/uploads/2016/02/Ferreira_Fisher_Sample_Oriented_Tasks.pdf) \n",
    "&nbsp;&nbsp;&nbsp;&nbsp;&nbsp;&nbsp;In Proceedings of the SIGCHI Conference on Human Factors in Computing Systems (pp. 571-580). ACM. ([video](https://www.youtube.com/watch?v=BI7GAs-va-Q))\n",
    "\n",
    "\n",
    "In this [paper](https://www.microsoft.com/en-us/research/wp-content/uploads/2016/02/Ferreira_Fisher_Sample_Oriented_Tasks.pdf) the authors describe the challenges users face when trying to make judgements about probabilistic data generated through samples. As an example, they look at a bar chart of four years of data (replicated below in Figure 1). Each year has a y-axis value, which is derived from a sample of a larger dataset. For instance, the first value might be the number votes in a given district or riding for 1992, with the average being around 33,000. On top of this is plotted the 95% confidence interval for the mean (see the boxplot lectures for more information, and the yerr parameter of barcharts).\n",
    "\n",
    "<br>\n",
    "<img src=\"readonly/Assignment3Fig1.png\" alt=\"Figure 1\" style=\"width: 400px;\"/>\n",
    "<h4 style=\"text-align: center;\" markdown=\"1\">  &nbsp;&nbsp;&nbsp;&nbsp;&nbsp;&nbsp;&nbsp;&nbsp;Figure 1 from (Ferreira et al, 2014).</h4>\n",
    "\n",
    "<br>\n",
    "\n",
    "A challenge that users face is that, for a given y-axis value (e.g. 42,000), it is difficult to know which x-axis values are most likely to be representative, because the confidence levels overlap and their distributions are different (the lengths of the confidence interval bars are unequal). One of the solutions the authors propose for this problem (Figure 2c) is to allow users to indicate the y-axis value of interest (e.g. 42,000) and then draw a horizontal line and color bars based on this value. So bars might be colored red if they are definitely above this value (given the confidence interval), blue if they are definitely below this value, or white if they contain this value.\n",
    "\n",
    "\n",
    "<br>\n",
    "<img src=\"readonly/Assignment3Fig2c.png\" alt=\"Figure 1\" style=\"width: 400px;\"/>\n",
    "<h4 style=\"text-align: center;\" markdown=\"1\">  Figure 2c from (Ferreira et al. 2014). Note that the colorbar legend at the bottom as well as the arrows are not required in the assignment descriptions below.</h4>\n",
    "\n",
    "<br>\n",
    "<br>\n",
    "\n",
    "**Easiest option:** Implement the bar coloring as described above - a color scale with only three colors, (e.g. blue, white, and red). Assume the user provides the y axis value of interest as a parameter or variable.\n",
    "\n",
    "\n",
    "**Harder option:** Implement the bar coloring as described in the paper, where the color of the bar is actually based on the amount of data covered (e.g. a gradient ranging from dark blue for the distribution being certainly below this y-axis, to white if the value is certainly contained, to dark red if the value is certainly not contained as the distribution is above the axis).\n",
    "\n",
    "**Even Harder option:** Add interactivity to the above, which allows the user to click on the y axis to set the value of interest. The bar colors should change with respect to what value the user has selected.\n",
    "\n",
    "**Hardest option:** Allow the user to interactively set a range of y values they are interested in, and recolor based on this (e.g. a y-axis band, see the paper for more details).\n",
    "\n",
    "---\n",
    "\n",
    "*Note: The data given for this assignment is not the same as the data used in the article and as a result the visualizations may look a little different.*"
   ]
  },
  {
   "cell_type": "code",
   "execution_count": null,
   "metadata": {},
   "outputs": [],
   "source": [
    "%matplotlib notebook\n",
    "import matplotlib as mpl\n",
    "import matplotlib.pyplot as plt\n",
    "import matplotlib.gridspec as gspec\n",
    "import matplotlib.animation as anime\n",
    "import scipy.stats as stats\n",
    "\n",
    "from ipywidgets import interact\n",
    "import ipywidgets as widgets"
   ]
  },
  {
   "cell_type": "code",
   "execution_count": null,
   "metadata": {},
   "outputs": [],
   "source": [
    "# Use the following data for this assignment:\n",
    "\n",
    "import pandas as pd\n",
    "import numpy as np\n",
    "\n",
    "np.random.seed(12345)\n",
    "\n",
    "df = pd.DataFrame([np.random.normal(32000,200000,3650), \n",
    "                   np.random.normal(43000,100000,3650), \n",
    "                   np.random.normal(43500,140000,3650), \n",
    "                   np.random.normal(48000,70000,3650)], \n",
    "                  index=[1992,1993,1994,1995])\n",
    "df"
   ]
  },
  {
   "cell_type": "code",
   "execution_count": null,
   "metadata": {},
   "outputs": [],
   "source": [
    "def coverageFunction(minima,maxima):\n",
    "    colors_list = []\n",
    "    means = np.asarray(meanRows)\n",
    "    for i in range(0,len(y_errors)):\n",
    "        y_max = means[i]+y_errors[i]\n",
    "        y_min = means[i]-y_errors[i]\n",
    "        if minima > y_max:\n",
    "            colors_list.append(graphMap.to_rgba(0))\n",
    "        elif maxima < y_min:\n",
    "            colors_list.append(graphMap.to_rgba(0))\n",
    "        elif (maxima >= y_max) & (minima <= y_min):\n",
    "            colors_list.append(graphMap.to_rgba(1))\n",
    "        elif (minima <= y_min) & (maxima <= y_max):\n",
    "            colors_list.append(graphMap.to_rgba((maxima - y_min)/(y_max - y_min)))\n",
    "        elif (minima > y_min) & (maxima < y_max):\n",
    "            colors_list.append(graphMap.to_rgba((maxima - minima)/(y_max - y_min)))\n",
    "        else:\n",
    "            colors_list.append(graphMap.to_rgba((y_max - minima)/(y_max - y_min)))\n",
    "    return colors_list"
   ]
  },
  {
   "cell_type": "code",
   "execution_count": null,
   "metadata": {},
   "outputs": [],
   "source": [
    "def exec_scroll(minima, maxima):\n",
    "    top_bargraph.cla()\n",
    "    barColors = coverageFunction(minima, maxima)\n",
    "    top_bargraph.bar(df.index,meanRows,yerr = y_errors,color=barColors)\n",
    "    global min_line,max_line\n",
    "    min_line = top_bargraph.axhline(minima,0,1,color=\"orange\",linestyle ='dashdot')\n",
    "    max_line = top_bargraph.axhline(maxima,0,1,color=\"orange\",linestyle ='dashdot')\n",
    "    top_bargraph.text(1993.3, minima,\"y_min = \"+str(round(minima,2)), bbox=dict(facecolor='orange', alpha=0.5), fontsize=7)\n",
    "    top_bargraph.text(1993.3,maxima, \"y_max = \"+str(round(maxima,2)), bbox=dict(facecolor='orange', alpha=0.5), fontsize=7)\n",
    "    top_bargraph.set_xticks(df.index)\n",
    "    top_bargraph.set_title(\"year v/s distribution means with confidence intervals\")"
   ]
  },
  {
   "cell_type": "markdown",
   "metadata": {},
   "source": [
    "### Option 1 : use interactive scrollers for the range with animate"
   ]
  },
  {
   "cell_type": "code",
   "execution_count": null,
   "metadata": {},
   "outputs": [],
   "source": [
    "a = np.NaN\n",
    "def updateList(current,minima,maxima):\n",
    "    if current == 0:\n",
    "        try:\n",
    "            exec_scroll(minima, maxima)\n",
    "            a.event_source.stop()\n",
    "        except:\n",
    "            top_bargraph.set_title(\"error occured\")\n",
    "    else:\n",
    "        top_bargraph.set_title(current)\n",
    "        a.event_source.stop()"
   ]
  },
  {
   "cell_type": "code",
   "execution_count": null,
   "metadata": {},
   "outputs": [],
   "source": [
    "def add_interactivescroller() :\n",
    "    interact(scroller_animation, range_min=widgets.IntSlider(min=0,max=55000,step=100,value=10000),\n",
    "                                 range_max=widgets.IntSlider(min=min_line.get_ydata()[0],max=55000,step=100,value=15000))"
   ]
  },
  {
   "cell_type": "code",
   "execution_count": null,
   "metadata": {},
   "outputs": [],
   "source": [
    "def scroller_animation(range_min, range_max):\n",
    "    global a,fig\n",
    "    a = anime.FuncAnimation(fig, updateList, fargs=(range_min,range_max))\n",
    "    plt.show()\n",
    "\n"
   ]
  },
  {
   "cell_type": "markdown",
   "metadata": {},
   "source": [
    "### option 2 : click on graph to run interative"
   ]
  },
  {
   "cell_type": "code",
   "execution_count": null,
   "metadata": {},
   "outputs": [],
   "source": [
    "def onclick(event):\n",
    "    y_val = event.ydata\n",
    "    if np.abs(y_val - max_line.get_ydata()[0]) > np.abs(y_val - min_line.get_ydata()[0]):\n",
    "        exec_scroll(y_val, max_line.get_ydata()[0])\n",
    "\n",
    "    else:\n",
    "        exec_scroll(min_line.get_ydata()[0], y_val)\n",
    "    \n",
    "plt.gcf().canvas.mpl_connect('button_press_event', onclick)\n",
    "            "
   ]
  },
  {
   "cell_type": "code",
   "execution_count": null,
   "metadata": {
    "scrolled": false
   },
   "outputs": [],
   "source": [
    "meanRows= np.mean(df, axis=1)\n",
    "y_errors= stats.sem(df,axis =1 )\n",
    "critical_val_norm = stats.norm.ppf(0.95)\n",
    "y_errors= y_errors*critical_val_norm\n",
    "\n",
    "fig = plt.figure()\n",
    "grid = gspec.GridSpec(6,1,hspace= 0.7)\n",
    "top_bargraph = plt.subplot(grid[0:5,0])\n",
    "bottom_colorbar = plt.subplot(grid[5,0])\n",
    "\n",
    "colorbar = mpl.colorbar.ColorbarBase(bottom_colorbar,\n",
    "                          orientation='horizontal', \n",
    "                          cmap=mpl.cm.Reds,norm = mpl.colors.BoundaryNorm(boundaries=np.arange(0,1.1,0.1), ncolors=256)\n",
    "                         )\n",
    "colorbar.set_ticks(np.arange(0,1.1,0.1))\n",
    "\n",
    "colorMap = mpl.cm.Reds\n",
    "graphMap = mpl.cm.ScalarMappable(norm = mpl.colors.Normalize(vmin=0, vmax=1),cmap=colorMap)\n",
    "\n",
    "top_bargraph.bar(df.index,meanRows,yerr = y_errors,color= graphMap.to_rgba(0))\n",
    "top_bargraph.set_xticks(df.index)\n",
    "\n",
    "min_line = top_bargraph.axhline(10000,0,1,color=\"orange\",linestyle ='dashdot')\n",
    "max_line = top_bargraph.axhline(15000,0,1,color=\"orange\",linestyle ='dashdot')\n",
    "top_bargraph.set_facecolor(\"lightblue\")\n",
    "top_bargraph.set_title(\"year v/s distribution means with confidence intervals\")\n"
   ]
  },
  {
   "cell_type": "code",
   "execution_count": null,
   "metadata": {},
   "outputs": [],
   "source": [
    "add_interactivescroller()\n"
   ]
  },
  {
   "cell_type": "code",
   "execution_count": null,
   "metadata": {},
   "outputs": [],
   "source": [
    "plt.savefig(\"visualization.jpg\",bbox_inches=\"tight\")"
   ]
  },
  {
   "cell_type": "code",
   "execution_count": null,
   "metadata": {},
   "outputs": [],
   "source": [
    "%matplotlib inline"
   ]
  },
  {
   "cell_type": "code",
   "execution_count": null,
   "metadata": {},
   "outputs": [],
   "source": []
  }
 ],
 "metadata": {
  "kernelspec": {
   "display_name": "Python 3",
   "language": "python",
   "name": "python3"
  },
  "language_info": {
   "codemirror_mode": {
    "name": "ipython",
    "version": 3
   },
   "file_extension": ".py",
   "mimetype": "text/x-python",
   "name": "python",
   "nbconvert_exporter": "python",
   "pygments_lexer": "ipython3",
   "version": "3.6.5"
  }
 },
 "nbformat": 4,
 "nbformat_minor": 2
}
