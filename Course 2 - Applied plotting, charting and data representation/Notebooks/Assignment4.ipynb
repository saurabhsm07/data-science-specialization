{
 "cells": [
  {
   "cell_type": "markdown",
   "metadata": {},
   "source": [
    "# Assignment 4\n",
    "\n",
    "Before working on this assignment please read these instructions fully. In the submission area, you will notice that you can click the link to **Preview the Grading** for each step of the assignment. This is the criteria that will be used for peer grading. Please familiarize yourself with the criteria before beginning the assignment.\n",
    "\n",
    "This assignment requires that you to find **at least** two datasets on the web which are related, and that you visualize these datasets to answer a question with the broad topic of **economic activity or measures** (see below) for the region of **Ann Arbor, Michigan, United States**, or **United States** more broadly.\n",
    "\n",
    "You can merge these datasets with data from different regions if you like! For instance, you might want to compare **Ann Arbor, Michigan, United States** to Ann Arbor, USA. In that case at least one source file must be about **Ann Arbor, Michigan, United States**.\n",
    "\n",
    "You are welcome to choose datasets at your discretion, but keep in mind **they will be shared with your peers**, so choose appropriate datasets. Sensitive, confidential, illicit, and proprietary materials are not good choices for datasets for this assignment. You are welcome to upload datasets of your own as well, and link to them using a third party repository such as github, bitbucket, pastebin, etc. Please be aware of the Coursera terms of service with respect to intellectual property.\n",
    "\n",
    "Also, you are welcome to preserve data in its original language, but for the purposes of grading you should provide english translations. You are welcome to provide multiple visuals in different languages if you would like!\n",
    "\n",
    "As this assignment is for the whole course, you must incorporate principles discussed in the first week, such as having as high data-ink ratio (Tufte) and aligning with Cairo’s principles of truth, beauty, function, and insight.\n",
    "\n",
    "Here are the assignment instructions:\n",
    "\n",
    " * State the region and the domain category that your data sets are about (e.g., **Ann Arbor, Michigan, United States** and **economic activity or measures**).\n",
    " * You must state a question about the domain category and region that you identified as being interesting.\n",
    " * You must provide at least two links to available datasets. These could be links to files such as CSV or Excel files, or links to websites which might have data in tabular form, such as Wikipedia pages.\n",
    " * You must upload an image which addresses the research question you stated. In addition to addressing the question, this visual should follow Cairo's principles of truthfulness, functionality, beauty, and insightfulness.\n",
    " * You must contribute a short (1-2 paragraph) written justification of how your visualization addresses your stated research question.\n",
    "\n",
    "What do we mean by **economic activity or measures**?  For this category you might look at the inputs or outputs to the given economy, or major changes in the economy compared to other regions.\n",
    "\n",
    "## Tips\n",
    "* Wikipedia is an excellent source of data, and I strongly encourage you to explore it for new data sources.\n",
    "* Many governments run open data initiatives at the city, region, and country levels, and these are wonderful resources for localized data sources.\n",
    "* Several international agencies, such as the [United Nations](http://data.un.org/), the [World Bank](http://data.worldbank.org/), the [Global Open Data Index](http://index.okfn.org/place/) are other great places to look for data.\n",
    "* This assignment requires you to convert and clean datafiles. Check out the discussion forums for tips on how to do this from various sources, and share your successes with your fellow students!\n",
    "\n",
    "## Example\n",
    "Looking for an example? Here's what our course assistant put together for the **Ann Arbor, MI, USA** area using **sports and athletics** as the topic. [Example Solution File](./readonly/Assignment4_example.pdf)"
   ]
  },
  {
   "cell_type": "markdown",
   "metadata": {},
   "source": [
    "#### Importing required files :"
   ]
  },
  {
   "cell_type": "code",
   "execution_count": null,
   "metadata": {},
   "outputs": [],
   "source": [
    "import sqlite3\n",
    "import pandas as pd\n",
    "import numpy as np\n",
    "import matplotlib.pyplot as plt\n",
    "\n",
    "%matplotlib notebook"
   ]
  },
  {
   "cell_type": "markdown",
   "metadata": {},
   "source": [
    "#### Creating a connection to the sqlite database :"
   ]
  },
  {
   "cell_type": "code",
   "execution_count": null,
   "metadata": {},
   "outputs": [],
   "source": [
    "conn = sqlite3.connect(\"./../../../../Datasets/European soccer databse 2008-16/database.sqlite\")"
   ]
  },
  {
   "cell_type": "markdown",
   "metadata": {},
   "source": [
    "#### Fetching required tables form the dataset and storing them in the required database :"
   ]
  },
  {
   "cell_type": "code",
   "execution_count": null,
   "metadata": {},
   "outputs": [],
   "source": [
    "countries = pd.read_sql_query(\"select * from Country\", conn)\n",
    "leagues =  pd.read_sql_query(\"Select * from League\", conn)\n",
    "matches = pd.read_sql_query(\"Select * from Match\", conn)\n",
    "teams = pd.read_sql_query(\"Select * from Team\", conn)\n",
    "team_attributes = pd.read_sql_query(\"Select * from Team_Attributes\", conn)\n",
    "# players = pd.read_sql_query(\"Select * from Player\", conn)\n",
    "# player_attributes = pd.read_sql_query(\"Select * from Player_Attributes\", conn)"
   ]
  },
  {
   "cell_type": "markdown",
   "metadata": {},
   "source": [
    "### Understanding the structure of dataframes :"
   ]
  },
  {
   "cell_type": "markdown",
   "metadata": {},
   "source": [
    "#### Printing top 5 columns to understand the structure and identify required attributes and data frames :"
   ]
  },
  {
   "cell_type": "code",
   "execution_count": null,
   "metadata": {},
   "outputs": [],
   "source": [
    "print(\"COUNTRIES: \\n \\n\",countries.head(),\n",
    "      \"\\n \\n LEAGUES: \\n \\n\",leagues.head(),\n",
    "      \"\\n \\n TEAMS: \\n \\n\",teams.head(),\n",
    "      \"\\n \\n PLAYERS: \\n \\n\",players.head()\n",
    "     )"
   ]
  },
  {
   "cell_type": "code",
   "execution_count": null,
   "metadata": {},
   "outputs": [],
   "source": [
    "matches.head()"
   ]
  },
  {
   "cell_type": "markdown",
   "metadata": {},
   "source": [
    "###   _In this notebook i will concentrate on the performances of the top teams in the English Premier League :_ "
   ]
  },
  {
   "cell_type": "markdown",
   "metadata": {},
   "source": [
    "#### Reducing the Matches dataset to only specific league :"
   ]
  },
  {
   "cell_type": "code",
   "execution_count": null,
   "metadata": {},
   "outputs": [],
   "source": [
    "# i/p : league_name ; o/p : league_id (id of the specied league)\n",
    "def get_league_id(league_name) :\n",
    "    league_id = leagues[leagues[\"name\"] == \"England Premier League\"].loc[:,\"id\"].iloc[0]\n",
    "    return league_id\n",
    "\n",
    "# i/p : league_id; o/p : league_matches_dataframe - ( all the matches from a specific league )\n",
    "def get_league_matches(league_id):\n",
    "    df = matches[matches[\"league_id\"] == league_id]\n",
    "    return df"
   ]
  },
  {
   "cell_type": "code",
   "execution_count": null,
   "metadata": {},
   "outputs": [],
   "source": [
    "# fetching all EPL matches from the matches dataframe\n",
    "league_name = \"England Premier League\"\n",
    "league_id = get_league_id(league_name)\n",
    "\n",
    "# EPL matches dataframe\n",
    "epl_matches_df = get_league_matches(league_id) \n",
    "print(\"EPL matches dataframe structure : \\n \\n Rows = {} Columns = {} \\n \\n Top 5 columns : \\n \\n {}\"\n",
    "      .format(epl_matches_df.shape[0],\n",
    "              epl_matches_df.shape[1],\n",
    "              epl_matches_df.head())\n",
    "     )"
   ]
  },
  {
   "cell_type": "markdown",
   "metadata": {},
   "source": [
    "#### Removing unncessary columns from EPL matches dataframe:"
   ]
  },
  {
   "cell_type": "code",
   "execution_count": null,
   "metadata": {},
   "outputs": [],
   "source": [
    "# REMOVING : PLAYER INFORMATION COLUMNS, MATCH EVENT COLUMNS AND BETTING ODDS COLUMNS FOR THAT MATCH:\n",
    "# REMOVING: country Id, league Id and date of the match information\n",
    "# Setting index to 'id column'\n",
    "# renaming some columns {'home_team_api_id' : 'home_team_id', 'away_team_api_id': 'away_team_id','stage' : 'match_day'}\n",
    "epl_matches_df = (epl_matches_df.iloc[:,0:11]\n",
    "                  .drop(columns=['country_id', 'league_id', 'date'])\n",
    "                  .set_index('id')\n",
    "                  .rename({'home_team_api_id' : 'home_team_id', 'away_team_api_id': 'away_team_id','stage' : 'match_day', 'match_api_id' : 'match_id'}, axis= 1)\n",
    "                 )\n"
   ]
  },
  {
   "cell_type": "code",
   "execution_count": null,
   "metadata": {},
   "outputs": [],
   "source": [
    "# i/p : list of team ids o/p : dict of team id and team name\n",
    "def get_team_name(team_id_list):\n",
    "    team_long_name = {}\n",
    "    team_short_name = {}\n",
    "    for id in team_id_list:\n",
    "        team_long_name[id] = teams[teams['team_api_id'] == id]['team_long_name'].iloc[0]\n",
    "        team_short_name[id] = teams[teams['team_api_id'] == id]['team_short_name'].iloc[0]\n",
    "    return (team_long_name, team_short_name)"
   ]
  },
  {
   "cell_type": "code",
   "execution_count": null,
   "metadata": {},
   "outputs": [],
   "source": [
    "def add_result_column(row):\n",
    "    if row['home_team_goal'] == row['away_team_goal']:\n",
    "        row[\"result\"] = 'draw'\n",
    "    elif row['home_team_goal'] > row['away_team_goal']:\n",
    "        row[\"result\"] = 'home'\n",
    "    else:\n",
    "        row['result'] = 'away'\n",
    "    return row    \n",
    "\n",
    "def add_team_names(row, team_name_dict):\n",
    "    row[\"home_team\"] = team_name_dict[row['home_team_id']]\n",
    "    row[\"away_team\"] = team_name_dict[row['away_team_id']]\n",
    "    return row\n",
    "\n",
    "full_name_dict, short_name_dict = get_team_name(epl_matches_df['home_team_id'].unique())\n",
    "\n",
    "# adding result column\n",
    "epl_matches_df = (epl_matches_df.apply(add_result_column, axis=1)\n",
    "                                .apply(add_team_names, args=(full_name_dict,), axis=1))"
   ]
  },
  {
   "cell_type": "code",
   "execution_count": null,
   "metadata": {},
   "outputs": [],
   "source": [
    "epl_matches_df.head()"
   ]
  },
  {
   "cell_type": "markdown",
   "metadata": {},
   "source": [
    "#### Finding the top 4 performing teams in the premier league from 2008-16 :\n",
    " - Top performing teams over a period is calculated based on **win percentage** of a team over that period.\n",
    " - In case of same win percentage we consider **draw %** "
   ]
  },
  {
   "cell_type": "code",
   "execution_count": null,
   "metadata": {},
   "outputs": [],
   "source": [
    "def set_winner(row):\n",
    "    if row['result'] == 'home':\n",
    "        row['winner'] = row['home_team']\n",
    "    elif row['result'] == 'away':\n",
    "        row['winner'] = row['away_team']\n",
    "    else:\n",
    "        row['winner'] = 'draw'\n",
    "    return row\n",
    "\n",
    "epl_matches_df = epl_matches_df.apply(set_winner, axis = 1)"
   ]
  },
  {
   "cell_type": "code",
   "execution_count": null,
   "metadata": {},
   "outputs": [],
   "source": [
    "top_6_teams = (epl_matches_df.groupby('winner')['match_id']\n",
    "                       .agg({'count'})\n",
    "                       .rename({'count' : 'win_count'}, axis = 1)\n",
    "                       .sort_values('win_count',axis = 0, ascending = False)\n",
    "                       .iloc[1:7,:]\n",
    "        )\n",
    "\n",
    "# top teams over the specific period based on win count\n",
    "top_6_teams"
   ]
  },
  {
   "cell_type": "markdown",
   "metadata": {},
   "source": [
    "#### Reducing the matches dataset to keep only the top 6 teams required :"
   ]
  },
  {
   "cell_type": "code",
   "execution_count": null,
   "metadata": {},
   "outputs": [],
   "source": [
    "epl_matches_top_6 = epl_matches_df[epl_matches_df['home_team'].isin(top_6_teams.index.tolist()) | epl_matches_df['away_team'].isin(top_6_teams.index.tolist())]"
   ]
  },
  {
   "cell_type": "code",
   "execution_count": null,
   "metadata": {},
   "outputs": [],
   "source": [
    "epl_matches_top_6.groupby('season')"
   ]
  }
 ],
 "metadata": {
  "kernelspec": {
   "display_name": "Python 3",
   "language": "python",
   "name": "python3"
  },
  "language_info": {
   "codemirror_mode": {
    "name": "ipython",
    "version": 3
   },
   "file_extension": ".py",
   "mimetype": "text/x-python",
   "name": "python",
   "nbconvert_exporter": "python",
   "pygments_lexer": "ipython3",
   "version": "3.6.5"
  }
 },
 "nbformat": 4,
 "nbformat_minor": 1
}
